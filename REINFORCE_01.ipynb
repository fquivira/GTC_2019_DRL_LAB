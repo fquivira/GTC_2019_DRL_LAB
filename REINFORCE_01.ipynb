{
 "cells": [
  {
   "cell_type": "markdown",
   "metadata": {},
   "source": [
    "# Hands On #10 - Balancing the Cart Pole w/ Policy Gradient (REINFORCE)\n",
    "\n",
    "## Goal:\n",
    "* Implement Policy Gradient Network for CartPole\n",
    "    * It is a lot simpler !!\n",
    "\n",
    "## Steps:\n",
    "1. Program REINFORCE\n",
    "2. Plot Values"
   ]
  },
  {
   "cell_type": "markdown",
   "metadata": {},
   "source": [
    "Reference : \n",
    "* My solution for the DQN https://github.com/xsankar/DQN_Navigation/blob/master/Navigation-v2.ipynb\n",
    "* Udacity https://github.com/udacity/deep-reinforcement-learning/blob/master/reinforce/REINFORCE.ipynb"
   ]
  },
  {
   "cell_type": "markdown",
   "metadata": {},
   "source": [
    "## Notebook Organization:\n",
    "\n",
    "### The notebook has 3 parts :\n",
    "\n",
    "* __Part 1__ : Defines the classes, initiates the environment and so forth. It sets up all the scaffolding needed\n",
    "* __Part 2__ : Explore and Learn - it performs the REINFORCE Reinforcement Learning. It also saves the best model\n",
    "* __Part 3__ : Run saved model or the learned model"
   ]
  },
  {
   "cell_type": "markdown",
   "metadata": {},
   "source": [
    "## Part 1 - Definitions & Setup\n",
    "----"
   ]
  },
  {
   "cell_type": "markdown",
   "metadata": {},
   "source": [
    "### 1. Install the required packages\n",
    "* No esoteric requirements\n",
    "* You can run them without docker\n",
    "* pip install -r requirements.txt\n",
    "* Requirements\n",
    " * python 3.6, pytorch, openAI gym, numpy, matplotlib\n",
    " * anaconda is easier but not needed\n",
    " * Miniconda works fine"
   ]
  },
  {
   "cell_type": "markdown",
   "metadata": {},
   "source": [
    "### 2. Define imports\n",
    "\n",
    "python 3, numpy, matplotlib, torch, gym"
   ]
  },
  {
   "cell_type": "code",
   "execution_count": 1,
   "metadata": {},
   "outputs": [],
   "source": [
    "# General imports\n",
    "import gym\n",
    "# import PIL # for in-line display of certain environments\n",
    "\n",
    "import sys\n",
    "import numpy as np\n",
    "import random\n",
    "from collections import namedtuple, deque, defaultdict\n",
    "\n",
    "import matplotlib.pyplot as plt\n",
    "%matplotlib inline\n",
    "\n",
    "# torch imports\n",
    "import torch\n",
    "import torch.nn as nn\n",
    "import torch.nn.functional as F\n",
    "import torch.optim as optim\n",
    "from torch.distributions import Categorical"
   ]
  },
  {
   "cell_type": "markdown",
   "metadata": {},
   "source": [
    "### 2.1. Global Constants and other variables"
   ]
  },
  {
   "cell_type": "code",
   "execution_count": 2,
   "metadata": {},
   "outputs": [],
   "source": [
    "# Constants Definitions\n",
    "BUFFER_SIZE = 512 # int(1e5)  # replay buffer size\n",
    "BATCH_SIZE = 64         # minibatch size\n",
    "GAMMA = 0.99            # discount factor\n",
    "TAU = 1e-3              # for soft update of target parameters\n",
    "LR = 5e-4               # learning rate \n",
    "UPDATE_EVERY = 4        # how often to update the network\n",
    "# Number of neurons in the layers of the Q Network\n",
    "FC1_UNITS = 16\n",
    "FC2_UNITS = 8\n",
    "FC3_UNITS = 4\n",
    "# Store models flag. Store during calibration runs and do not store during hyperparameter search\n",
    "STORE_MODELS = False"
   ]
  },
  {
   "cell_type": "markdown",
   "metadata": {},
   "source": [
    "### Work Area"
   ]
  },
  {
   "cell_type": "code",
   "execution_count": 3,
   "metadata": {},
   "outputs": [
    {
     "name": "stdout",
     "output_type": "stream",
     "text": [
      "0.20943951023931956\n",
      "-0.20943951023931956\n"
     ]
    }
   ],
   "source": [
    "# Work area to quickly test utility functions\n",
    "import math\n",
    "import time\n",
    "from datetime import datetime, timedelta\n",
    "'''\n",
    "start_time = time.time()\n",
    "time.sleep(10)\n",
    "print('Elapsed : {}'.format(timedelta(seconds=time.time() - start_time)))\n",
    "'''\n",
    "print(math.radians(12))\n",
    "print(math.radians(-12))"
   ]
  },
  {
   "cell_type": "code",
   "execution_count": 4,
   "metadata": {},
   "outputs": [],
   "source": [
    "# import gym, PIL\n",
    "# env = gym.make('CartPole-v0')\n",
    "# array = env.reset()\n",
    "# PIL.Image.fromarray(env.render(mode='rgb_array'))"
   ]
  },
  {
   "cell_type": "markdown",
   "metadata": {},
   "source": [
    "### 3.0 Create instance & Explore"
   ]
  },
  {
   "cell_type": "code",
   "execution_count": 5,
   "metadata": {},
   "outputs": [
    {
     "name": "stderr",
     "output_type": "stream",
     "text": [
      "/miniconda3/lib/python3.7/site-packages/gym/envs/registration.py:14: PkgResourcesDeprecationWarning: Parameters to load are deprecated.  Call .resolve and .require separately.\n",
      "  result = entry_point.load(False)\n"
     ]
    },
    {
     "data": {
      "text/plain": [
       "array([-0.01258566, -0.00156614,  0.04207708, -0.00180545])"
      ]
     },
     "execution_count": 5,
     "metadata": {},
     "output_type": "execute_result"
    }
   ],
   "source": [
    "import gym\n",
    "env = gym.make('CartPole-v0')\n",
    "env.seed(42)\n",
    "env.reset()\n",
    "# array = env.reset()\n",
    "# ** render doesn't work reliably on a server. Uncomment when running ** locally **\n",
    "# env.render()\n",
    "# PIL.Image.fromarray(env.render(mode='rgb_array'))"
   ]
  },
  {
   "cell_type": "markdown",
   "metadata": {},
   "source": [
    "### This what it will look like\n",
    "### We don't need the render(). We run it on headless mode and inspect the results\n",
    "<img src=\"CartPole_Render.jpg\">"
   ]
  },
  {
   "cell_type": "markdown",
   "metadata": {},
   "source": [
    "### 3.1 Examine the State and Action Spaces\n",
    "\n",
    "* The state space is continuous, with an observation space of 4 \n",
    "    * {x,$\\dot{x}$,$\\theta$, theta_dot}\n",
    "        * Cart Position,  Cart Velocity, Pole Angle, Pole Velocity at tip\n",
    "        * The angle, probably, is in radians\n",
    "\n",
    "The action space, on the contrary is simple viz. 0 = Left, 1 = Right"
   ]
  },
  {
   "cell_type": "code",
   "execution_count": 6,
   "metadata": {},
   "outputs": [
    {
     "name": "stdout",
     "output_type": "stream",
     "text": [
      "Box(4,)\n",
      "Discrete(2)\n",
      "[0, 1]\n",
      "[ 0 = Left, 1 = Right ]\n"
     ]
    }
   ],
   "source": [
    "print(env.observation_space)\n",
    "print(env.action_space)\n",
    "act_space = [i for i in range(0,env.action_space.n)]\n",
    "print(act_space)\n",
    "# env.unwrapped.get_action_meanings() # AttributeError: 'FrozenLakeEnv' object has no attribute 'get_action_meanings'\n",
    "print('[ 0 = Left, 1 = Right ]')"
   ]
  },
  {
   "cell_type": "code",
   "execution_count": 7,
   "metadata": {},
   "outputs": [
    {
     "name": "stdout",
     "output_type": "stream",
     "text": [
      "['__class__', '__delattr__', '__dict__', '__dir__', '__doc__', '__eq__', '__format__', '__ge__', '__getattribute__', '__gt__', '__hash__', '__init__', '__init_subclass__', '__le__', '__lt__', '__module__', '__ne__', '__new__', '__reduce__', '__reduce_ex__', '__repr__', '__setattr__', '__sizeof__', '__str__', '__subclasshook__', '__weakref__', '_elapsed_seconds', '_elapsed_steps', '_episode_started_at', '_max_episode_seconds', '_max_episode_steps', '_past_limit', 'action_space', 'class_name', 'close', 'compute_reward', 'env', 'metadata', 'observation_space', 'render', 'reset', 'reward_range', 'seed', 'spec', 'step', 'unwrapped']\n",
      "['__class__', '__delattr__', '__dict__', '__dir__', '__doc__', '__eq__', '__format__', '__ge__', '__getattribute__', '__gt__', '__hash__', '__init__', '__init_subclass__', '__le__', '__lt__', '__module__', '__ne__', '__new__', '__reduce__', '__reduce_ex__', '__repr__', '__setattr__', '__sizeof__', '__str__', '__subclasshook__', '__weakref__', 'action_space', 'close', 'force_mag', 'gravity', 'kinematics_integrator', 'length', 'masscart', 'masspole', 'metadata', 'np_random', 'observation_space', 'polemass_length', 'render', 'reset', 'reward_range', 'seed', 'spec', 'state', 'step', 'steps_beyond_done', 'tau', 'theta_threshold_radians', 'total_mass', 'unwrapped', 'viewer', 'x_threshold']\n",
      "States =  Box(4,)\n",
      "Actions =  Discrete(2)\n"
     ]
    }
   ],
   "source": [
    "print(dir(env))\n",
    "print(dir(env.unwrapped))\n",
    "# To see what functions and variables are availabe\n",
    "print('States = ',env.unwrapped.observation_space)\n",
    "print('Actions = ',env.unwrapped.action_space)"
   ]
  },
  {
   "cell_type": "code",
   "execution_count": 8,
   "metadata": {},
   "outputs": [],
   "source": [
    "state_size = env.observation_space.shape[0]\n",
    "action_size = env.action_space.n"
   ]
  },
  {
   "cell_type": "markdown",
   "metadata": {},
   "source": [
    "### 4. Test the environment with Random Action"
   ]
  },
  {
   "cell_type": "code",
   "execution_count": 10,
   "metadata": {},
   "outputs": [
    {
     "name": "stdout",
     "output_type": "stream",
     "text": [
      "[ [-0.01303166 -0.04270197 -0.04540492  0.04584364] ] -> 1  : [ [-0.0138857   0.15304066 -0.04448805 -0.26081216] ] R= 1.0\n",
      "[ [-0.0138857   0.15304066 -0.04448805 -0.26081216] ] -> 1  : [ [-0.01082489  0.34876851 -0.04970429 -0.56718863] ] R= 1.0\n",
      "[ [-0.01082489  0.34876851 -0.04970429 -0.56718863] ] -> 1  : [ [-0.00384952  0.54455116 -0.06104806 -0.87510696] ] R= 1.0\n",
      "[ [-0.00384952  0.54455116 -0.06104806 -0.87510696] ] -> 1  : [ [ 0.00704151  0.74044752 -0.0785502  -1.1863411 ] ] R= 1.0\n",
      "[ [ 0.00704151  0.74044752 -0.0785502  -1.1863411 ] ] -> 0  : [ [ 0.02185046  0.54642714 -0.10227702 -0.91927793] ] R= 1.0\n",
      "[ [ 0.02185046  0.54642714 -0.10227702 -0.91927793] ] -> 1  : [ [ 0.032779    0.74277175 -0.12066258 -1.24227282] ] R= 1.0\n",
      "[ [ 0.032779    0.74277175 -0.12066258 -1.24227282] ] -> 0  : [ [ 0.04763444  0.54938732 -0.14550804 -0.98969407] ] R= 1.0\n",
      "[ [ 0.04763444  0.54938732 -0.14550804 -0.98969407] ] -> 1  : [ [ 0.05862218  0.74612553 -0.16530192 -1.32431138] ] R= 1.0\n",
      "[ [ 0.05862218  0.74612553 -0.16530192 -1.32431138] ] -> 1  : [ [ 0.07354469  0.9429038  -0.19178815 -1.663833  ] ] R= 1.0\n",
      "[ [ 0.07354469  0.9429038  -0.19178815 -1.663833  ] ] -> 1  : [ [ 0.09240277  1.13967138 -0.22506481 -2.00961344] ] R= 1.0\n",
      "Episode 1 finished after 10 steps with a Total Reward = 10\n",
      "[ [-0.03880929  0.04082397 -0.03952141 -0.04224303] ] -> 1  : [ [-0.03799281  0.23648971 -0.04036627 -0.34712872] ] R= 1.0\n",
      "[ [-0.03799281  0.23648971 -0.04036627 -0.34712872] ] -> 0  : [ [-0.03326302  0.04196448 -0.04730885 -0.06744303] ] R= 1.0\n",
      "[ [-0.03326302  0.04196448 -0.04730885 -0.06744303] ] -> 1  : [ [-0.03242373  0.23773165 -0.04865771 -0.37466885] ] R= 1.0\n",
      "[ [-0.03242373  0.23773165 -0.04865771 -0.37466885] ] -> 0  : [ [-0.0276691   0.04333341 -0.05615109 -0.09771633] ] R= 1.0\n",
      "[ [-0.0276691   0.04333341 -0.05615109 -0.09771633] ] -> 0  : [ [-0.02680243 -0.1509407  -0.05810541  0.1767358 ] ] R= 1.0\n",
      "[ [-0.02680243 -0.1509407  -0.05810541  0.1767358 ] ] -> 1  : [ [-0.02982124  0.04496259 -0.0545707  -0.13369658] ] R= 1.0\n",
      "[ [-0.02982124  0.04496259 -0.0545707  -0.13369658] ] -> 1  : [ [-0.02892199  0.24082202 -0.05724463 -0.44308422] ] R= 1.0\n",
      "[ [-0.02892199  0.24082202 -0.05724463 -0.44308422] ] -> 0  : [ [-0.02410555  0.04655482 -0.06610631 -0.16898147] ] R= 1.0\n",
      "[ [-0.02410555  0.04655482 -0.06610631 -0.16898147] ] -> 1  : [ [-0.02317445  0.24255765 -0.06948594 -0.48176465] ] R= 1.0\n",
      "[ [-0.02317445  0.24255765 -0.06948594 -0.48176465] ] -> 0  : [ [-0.0183233   0.04848176 -0.07912124 -0.21176575] ] R= 1.0\n",
      "[ [-0.0183233   0.04848176 -0.07912124 -0.21176575] ] -> 1  : [ [-0.01735367  0.24464057 -0.08335655 -0.52832084] ] R= 1.0\n",
      "[ [-0.01735367  0.24464057 -0.08335655 -0.52832084] ] -> 0  : [ [-0.01246085  0.0507842  -0.09392297 -0.26302439] ] R= 1.0\n",
      "[ [-0.01246085  0.0507842  -0.09392297 -0.26302439] ] -> 0  : [ [-0.01144517 -0.14288035 -0.09918346 -0.0013807 ] ] R= 1.0\n",
      "[ [-0.01144517 -0.14288035 -0.09918346 -0.0013807 ] ] -> 0  : [ [-0.01430278 -0.3364503  -0.09921107  0.25843508] ] R= 1.0\n",
      "[ [-0.01430278 -0.3364503  -0.09921107  0.25843508] ] -> 0  : [ [-0.02103178 -0.53002624 -0.09404237  0.51825092] ] R= 1.0\n",
      "[ [-0.02103178 -0.53002624 -0.09404237  0.51825092] ] -> 0  : [ [-0.03163231 -0.72370706 -0.08367735  0.7798807 ] ] R= 1.0\n",
      "[ [-0.03163231 -0.72370706 -0.08367735  0.7798807 ] ] -> 1  : [ [-0.04610645 -0.52754051 -0.06807974  0.46208799] ] R= 1.0\n",
      "[ [-0.04610645 -0.52754051 -0.06807974  0.46208799] ] -> 1  : [ [-0.05665726 -0.33152575 -0.05883798  0.14874698] ] R= 1.0\n",
      "[ [-0.05665726 -0.33152575 -0.05883798  0.14874698] ] -> 0  : [ [-0.06328777 -0.52575795 -0.05586304  0.42230273] ] R= 1.0\n",
      "[ [-0.06328777 -0.52575795 -0.05586304  0.42230273] ] -> 0  : [ [-0.07380293 -0.72004581 -0.04741698  0.69686471] ] R= 1.0\n",
      "[ [-0.07380293 -0.72004581 -0.04741698  0.69686471] ] -> 0  : [ [-0.08820385 -0.91447924 -0.03347969  0.97425168] ] R= 1.0\n",
      "[ [-0.08820385 -0.91447924 -0.03347969  0.97425168] ] -> 1  : [ [-0.10649343 -0.71892453 -0.01399465  0.67124281] ] R= 1.0\n",
      "[ [-0.10649343 -0.71892453 -0.01399465  0.67124281] ] -> 1  : [ [-0.12087193 -0.52361086 -0.0005698   0.37418669] ] R= 1.0\n",
      "[ [-0.12087193 -0.52361086 -0.0005698   0.37418669] ] -> 0  : [ [-0.13134414 -0.71872471  0.00691394  0.6666899 ] ] R= 1.0\n",
      "[ [-0.13134414 -0.71872471  0.00691394  0.6666899 ] ] -> 1  : [ [-0.14571864 -0.52369959  0.02024773  0.3761919 ] ] R= 1.0\n",
      "[ [-0.14571864 -0.52369959  0.02024773  0.3761919 ] ] -> 0  : [ [-0.15619263 -0.71910319  0.02777157  0.67518964] ] R= 1.0\n",
      "[ [-0.15619263 -0.71910319  0.02777157  0.67518964] ] -> 0  : [ [-0.17057469 -0.91459984  0.04127536  0.97648534] ] R= 1.0\n",
      "[ [-0.17057469 -0.91459984  0.04127536  0.97648534] ] -> 1  : [ [-0.18886669 -0.72005502  0.06080507  0.69704816] ] R= 1.0\n",
      "[ [-0.18886669 -0.72005502  0.06080507  0.69704816] ] -> 0  : [ [-0.20326779 -0.91596512  0.07474603  1.0082359 ] ] R= 1.0\n",
      "[ [-0.20326779 -0.91596512  0.07474603  1.0082359 ] ] -> 1  : [ [-0.22158709 -0.72191627  0.09491075  0.73993023] ] R= 1.0\n",
      "[ [-0.22158709 -0.72191627  0.09491075  0.73993023] ] -> 1  : [ [-0.23602542 -0.52822398  0.10970936  0.4785613 ] ] R= 1.0\n",
      "[ [-0.23602542 -0.52822398  0.10970936  0.4785613 ] ] -> 1  : [ [-0.2465899  -0.33480802  0.11928058  0.22237148] ] R= 1.0\n",
      "[ [-0.2465899  -0.33480802  0.11928058  0.22237148] ] -> 1  : [ [-0.25328606 -0.14157502  0.12372801 -0.0304331 ] ] R= 1.0\n",
      "[ [-0.25328606 -0.14157502  0.12372801 -0.0304331 ] ] -> 1  : [ [-0.25611756  0.0515754   0.12311935 -0.28166061] ] R= 1.0\n",
      "[ [-0.25611756  0.0515754   0.12311935 -0.28166061] ] -> 1  : [ [-0.25508605  0.24474576  0.11748614 -0.5331171 ] ] R= 1.0\n",
      "[ [-0.25508605  0.24474576  0.11748614 -0.5331171 ] ] -> 0  : [ [-0.25019113  0.04818446  0.1068238  -0.20584615] ] R= 1.0\n",
      "[ [-0.25019113  0.04818446  0.1068238  -0.20584615] ] -> 1  : [ [-0.24922745  0.24162953  0.10270687 -0.46301323] ] R= 1.0\n",
      "[ [-0.24922745  0.24162953  0.10270687 -0.46301323] ] -> 1  : [ [-0.24439485  0.43516144  0.09344661 -0.72163854] ] R= 1.0\n",
      "[ [-0.24439485  0.43516144  0.09344661 -0.72163854] ] -> 0  : [ [-0.23569163  0.23887957  0.07901384 -0.40106696] ] R= 1.0\n",
      "[ [-0.23569163  0.23887957  0.07901384 -0.40106696] ] -> 0  : [ [-0.23091403  0.04273096  0.0709925  -0.08455611] ] R= 1.0\n",
      "[ [-0.23091403  0.04273096  0.0709925  -0.08455611] ] -> 1  : [ [-0.23005942  0.23676725  0.06930138 -0.35402314] ] R= 1.0\n",
      "[ [-0.23005942  0.23676725  0.06930138 -0.35402314] ] -> 0  : [ [-0.22532407  0.04073185  0.06222091 -0.04031756] ] R= 1.0\n",
      "[ [-0.22532407  0.04073185  0.06222091 -0.04031756] ] -> 0  : [ [-0.22450943 -0.15522461  0.06141456  0.27132947] ] R= 1.0\n",
      "[ [-0.22450943 -0.15522461  0.06141456  0.27132947] ] -> 1  : [ [-0.22761393  0.03896966  0.06684115 -0.00136824] ] R= 1.0\n",
      "[ [-0.22761393  0.03896966  0.06684115 -0.00136824] ] -> 1  : [ [-0.22683453  0.23307251  0.06681379 -0.27223568] ] R= 1.0\n",
      "[ [-0.22683453  0.23307251  0.06681379 -0.27223568] ] -> 0  : [ [-0.22217308  0.03706396  0.06136907  0.04074979] ] R= 1.0\n",
      "[ [-0.22217308  0.03706396  0.06136907  0.04074979] ] -> 1  : [ [-0.2214318   0.23125465  0.06218407 -0.23195672] ] R= 1.0\n",
      "[ [-0.2214318   0.23125465  0.06218407 -0.23195672] ] -> 0  : [ [-0.21680671  0.03530181  0.05754494  0.07967476] ] R= 1.0\n",
      "[ [-0.21680671  0.03530181  0.05754494  0.07967476] ] -> 0  : [ [-0.21610067 -0.16059582  0.05913843  0.3899437 ] ] R= 1.0\n",
      "[ [-0.21610067 -0.16059582  0.05913843  0.3899437 ] ] -> 1  : [ [-0.21931259  0.03363909  0.0669373   0.11647723] ] R= 1.0\n",
      "[ [-0.21931259  0.03363909  0.0669373   0.11647723] ] -> 0  : [ [-0.21863981 -0.16237492  0.06926685  0.42950467] ] R= 1.0\n",
      "[ [-0.21863981 -0.16237492  0.06926685  0.42950467] ] -> 0  : [ [-0.22188731 -0.35840592  0.07785694  0.74319422] ] R= 1.0\n",
      "[ [-0.22188731 -0.35840592  0.07785694  0.74319422] ] -> 0  : [ [-0.22905542 -0.55451123  0.09272083  1.05932791] ] R= 1.0\n",
      "[ [-0.22905542 -0.55451123  0.09272083  1.05932791] ] -> 1  : [ [-0.24014565 -0.36073161  0.11390739  0.79712793] ] R= 1.0\n",
      "[ [-0.24014565 -0.36073161  0.11390739  0.79712793] ] -> 1  : [ [-0.24736028 -0.16734151  0.12984994  0.54233906] ] R= 1.0\n",
      "[ [-0.24736028 -0.16734151  0.12984994  0.54233906] ] -> 0  : [ [-0.25070711 -0.36402638  0.14069672  0.87295132] ] R= 1.0\n",
      "[ [-0.25070711 -0.36402638  0.14069672  0.87295132] ] -> 1  : [ [-0.25798764 -0.1710691   0.15815575  0.62760395] ] R= 1.0\n",
      "[ [-0.25798764 -0.1710691   0.15815575  0.62760395] ] -> 0  : [ [-0.26140902 -0.36800364  0.17070783  0.96562316] ] R= 1.0\n",
      "[ [-0.26140902 -0.36800364  0.17070783  0.96562316] ] -> 0  : [ [-0.26876909 -0.56495607  0.19002029  1.30670239] ] R= 1.0\n",
      "[ [-0.26876909 -0.56495607  0.19002029  1.30670239] ] -> 0  : [ [-0.28006822 -0.7619093   0.21615434  1.65234499] ] R= 1.0\n",
      "Episode 2 finished after 60 steps with a Total Reward = 60\n",
      "[ [ 0.04905493 -0.0212186  -0.03840544 -0.01126453] ] -> 0  : [ [ 0.04863056 -0.21576932 -0.03863073  0.26905794] ] R= 1.0\n",
      "[ [ 0.04863056 -0.21576932 -0.03863073  0.26905794] ] -> 0  : [ [ 0.04431517 -0.41031929 -0.03324957  0.54931056] ] R= 1.0\n",
      "[ [ 0.04431517 -0.41031929 -0.03324957  0.54931056] ] -> 1  : [ [ 0.03610878 -0.21474645 -0.02226336  0.24633987] ] R= 1.0\n",
      "[ [ 0.03610878 -0.21474645 -0.02226336  0.24633987] ] -> 0  : [ [ 0.03181386 -0.40954347 -0.01733656  0.5319181 ] ] R= 1.0\n",
      "[ [ 0.03181386 -0.40954347 -0.01733656  0.5319181 ] ] -> 1  : [ [ 0.02362299 -0.21418202 -0.0066982   0.23382326] ] R= 1.0\n",
      "[ [ 0.02362299 -0.21418202 -0.0066982   0.23382326] ] -> 0  : [ [ 0.01933935 -0.40920762 -0.00202174  0.52438586] ] R= 1.0\n",
      "[ [ 0.01933935 -0.40920762 -0.00202174  0.52438586] ] -> 1  : [ [ 0.01115519 -0.21405728  0.00846598  0.23106655] ] R= 1.0\n",
      "[ [ 0.01115519 -0.21405728  0.00846598  0.23106655] ] -> 1  : [ [ 0.00687405 -0.01905732  0.01308731 -0.05893394] ] R= 1.0\n",
      "[ [ 0.00687405 -0.01905732  0.01308731 -0.05893394] ] -> 1  : [ [ 0.0064929   0.17587456  0.01190863 -0.34745917] ] R= 1.0\n",
      "[ [ 0.0064929   0.17587456  0.01190863 -0.34745917] ] -> 1  : [ [ 0.01001039  0.37082512  0.00495945 -0.63636322] ] R= 1.0\n",
      "[ [ 0.01001039  0.37082512  0.00495945 -0.63636322] ] -> 1  : [ [ 0.01742689  0.56587756 -0.00776782 -0.9274802 ] ] R= 1.0\n",
      "[ [ 0.01742689  0.56587756 -0.00776782 -0.9274802 ] ] -> 0  : [ [ 0.02874445  0.37086135 -0.02631742 -0.63724842] ] R= 1.0\n",
      "[ [ 0.02874445  0.37086135 -0.02631742 -0.63724842] ] -> 1  : [ [ 0.03616167  0.56634023 -0.03906239 -0.93810163] ] R= 1.0\n",
      "[ [ 0.03616167  0.56634023 -0.03906239 -0.93810163] ] -> 1  : [ [ 0.04748848  0.76196646 -0.05782442 -1.24279856] ] R= 1.0\n",
      "[ [ 0.04748848  0.76196646 -0.05782442 -1.24279856] ] -> 1  : [ [ 0.06272781  0.95778091 -0.08268039 -1.55302022] ] R= 1.0\n",
      "[ [ 0.06272781  0.95778091 -0.08268039 -1.55302022] ] -> 1  : [ [ 0.08188342  1.15379107 -0.1137408  -1.87031144] ] R= 1.0\n",
      "[ [ 0.08188342  1.15379107 -0.1137408  -1.87031144] ] -> 0  : [ [ 0.10495925  0.96008154 -0.15114703 -1.61499237] ] R= 1.0\n",
      "[ [ 0.10495925  0.96008154 -0.15114703 -1.61499237] ] -> 1  : [ [ 0.12416088  1.1566291  -0.18344687 -1.95072067] ] R= 1.0\n",
      "[ [ 0.12416088  1.1566291  -0.18344687 -1.95072067] ] -> 1  : [ [ 0.14729346  1.35316753 -0.22246129 -2.29421306] ] R= 1.0\n",
      "Episode 3 finished after 19 steps with a Total Reward = 19\n"
     ]
    }
   ],
   "source": [
    "for i_episode in range(3):\n",
    "    state = env.reset()\n",
    "    tot_reward = 0\n",
    "    steps = 0\n",
    "    while True:\n",
    "        action = env.action_space.sample()\n",
    "        next_state, reward, done, info = env.step(action)\n",
    "        print('[',state,']','->', action,' : [',next_state,']', 'R=',reward)\n",
    "        # env.render()\n",
    "        tot_reward += reward\n",
    "        steps += 1\n",
    "        if done:\n",
    "            print('Episode {:d} finished after {:d} steps with a Total Reward = {:.0f}'.\n",
    "                  format(i_episode+1,steps, tot_reward))\n",
    "            break\n",
    "        else:\n",
    "            state = next_state\n",
    "# Pole angle +/-12 degrees, Cart Pos +/- 2.4 or 200 steps\n",
    "# Cart Pos, Velocity, Pole Angle, Velocity\n",
    "# 12 degrees = .2094 radians"
   ]
  },
  {
   "cell_type": "markdown",
   "metadata": {},
   "source": [
    "## The Algorithm"
   ]
  },
  {
   "cell_type": "markdown",
   "metadata": {},
   "source": [
    "## REINFORCE Policy Gradient\n",
    "### Let us implement a simple Policy Gradient Algorithm\n",
    "<img src='REINFORCE_Alg.png'>"
   ]
  },
  {
   "cell_type": "markdown",
   "metadata": {},
   "source": [
    "### Or the simpler one\n",
    "<img src=\"REINFORCE_Alg_simple.png\">"
   ]
  },
  {
   "cell_type": "markdown",
   "metadata": {},
   "source": [
    "The basic algorithm is very simple:\n",
    "1. `Policy Network` - implemented as a Deep Neural Network whih consists of fully connected layers.\n",
    "2. `REINFORCE Algorithm` - orchastrates the environment and the policy. It interacts with the environment by taking actions based on a policy, collects rewards and the observation feedback and also initiates a learning step on the Policy Network."
   ]
  },
  {
   "cell_type": "code",
   "execution_count": 11,
   "metadata": {},
   "outputs": [],
   "source": [
    "# See if we can run in GPU\n",
    "device = torch.device(\"cuda:0\" if torch.cuda.is_available() else \"cpu\")"
   ]
  },
  {
   "cell_type": "code",
   "execution_count": 12,
   "metadata": {},
   "outputs": [],
   "source": [
    "class Policy(nn.Module):\n",
    "    def __init__(self, state_size=state_size, action_size=action_size, seed = 42, \n",
    "                 fc1_units = FC1_UNITS, fc2_units = FC2_UNITS, fc3_units = FC3_UNITS):\n",
    "        super(Policy, self).__init__()\n",
    "        self.seed = torch.manual_seed(seed)\n",
    "        self.fc1 = nn.Linear(state_size, fc1_units)\n",
    "        self.fc2 = nn.Linear(fc1_units, action_size)\n",
    "\n",
    "    def forward(self, x):\n",
    "        x = F.relu(self.fc1(x))\n",
    "        x = self.fc2(x)\n",
    "        return F.softmax(x, dim=1)\n",
    "    \n",
    "    def act(self, state):\n",
    "        state = torch.from_numpy(state).float().unsqueeze(0).to(device)\n",
    "        probs = self.forward(state).cpu()\n",
    "        m = Categorical(probs)\n",
    "        action = m.sample()\n",
    "        return action.item(), m.log_prob(action)"
   ]
  },
  {
   "cell_type": "markdown",
   "metadata": {},
   "source": [
    "### REINFORCE Algorithm\n",
    "\n",
    "Once we have defined the foundations (network, the algorithm and so forth), the actual is relatively easy. It has a few responsibilities:\n",
    "1. Orchastrate the episodes calling the appropriate methods\n",
    "2. Display a running commentry of the scores and episode count\n",
    "3. Check the success criterion for solving the environment i.e. if running average is > 195.0 and print the episode count\n",
    "4. Store the model with the maximum score\n",
    "5. Keep track of the scores for analytics at the end of the run"
   ]
  },
  {
   "cell_type": "code",
   "execution_count": 13,
   "metadata": {},
   "outputs": [],
   "source": [
    "policy = Policy().to(device)\n",
    "optimizer = optim.Adam(policy.parameters(), lr=1e-2)\n",
    "\n",
    "def reinforce(n_episodes=1000, gamma=1.0, print_every=100):\n",
    "    scores_deque = deque(maxlen=100)\n",
    "    scores = []\n",
    "    for i_episode in range(1, n_episodes+1):\n",
    "        saved_log_probs = []\n",
    "        rewards = []\n",
    "        state = env.reset()\n",
    "        while True:\n",
    "            action, log_prob = policy.act(state)\n",
    "            saved_log_probs.append(log_prob)\n",
    "            state, reward, done, _ = env.step(action)\n",
    "            rewards.append(reward)\n",
    "            if done:\n",
    "                break \n",
    "        scores_deque.append(sum(rewards))\n",
    "        scores.append(sum(rewards))\n",
    "        \n",
    "        discounts = [gamma**i for i in range(len(rewards)+1)]\n",
    "        R = sum([a*b for a,b in zip(discounts, rewards)])\n",
    "        \n",
    "        policy_loss = []\n",
    "        for log_prob in saved_log_probs:\n",
    "            policy_loss.append(-log_prob * R)\n",
    "        policy_loss = torch.cat(policy_loss).sum()\n",
    "        \n",
    "        optimizer.zero_grad()\n",
    "        policy_loss.backward()\n",
    "        optimizer.step()\n",
    "        \n",
    "        if i_episode % print_every == 0:\n",
    "            print('Episode {}\\tAverage Score: {:.2f}'.format(i_episode, np.mean(scores_deque)))\n",
    "        if np.mean(scores_deque)>=195.0:\n",
    "            print('Environment solved in {:d} episodes!\\tAverage Score: {:.2f}'.\n",
    "                  format(i_episode-100, np.mean(scores_deque)))\n",
    "            break\n",
    "        \n",
    "    return scores"
   ]
  },
  {
   "cell_type": "markdown",
   "metadata": {},
   "source": [
    "## Part 2 - Learn & Train\n",
    "-----"
   ]
  },
  {
   "cell_type": "markdown",
   "metadata": {},
   "source": [
    "### The actual training Run\n",
    "\n",
    "1. Run the Policy Network implemented using the REINFORCE Algorithm\n",
    "2. Calculate and display end-of-run analytics viz. descriptive statistics and a plot of the scores"
   ]
  },
  {
   "cell_type": "code",
   "execution_count": 14,
   "metadata": {},
   "outputs": [
    {
     "name": "stdout",
     "output_type": "stream",
     "text": [
      "Episode 100\tAverage Score: 41.11\n",
      "Episode 200\tAverage Score: 102.92\n",
      "Episode 300\tAverage Score: 142.24\n",
      "Episode 400\tAverage Score: 102.35\n",
      "Episode 500\tAverage Score: 31.79\n",
      "Episode 600\tAverage Score: 98.43\n",
      "Episode 700\tAverage Score: 189.09\n",
      "Environment solved in 610 episodes!\tAverage Score: 195.07\n",
      "Elapsed : 0:00:22.520751\n",
      "2019-02-08 13:10:04.801406\n"
     ]
    },
    {
     "data": {
      "image/png": "[encoded data removed]",
      "text/plain": [
       "<Figure size 432x288 with 1 Axes>"
      ]
     },
     "metadata": {
      "needs_background": "light"
     },
     "output_type": "display_data"
    },
    {
     "name": "stdout",
     "output_type": "stream",
     "text": [
      "Max Score 200.000000 at 131\n",
      "Percentile [25,50,75] : [ 31.25 100.   165.  ]\n",
      "Variance : 4587.121\n",
      "Policy(\n",
      "  (fc1): Linear(in_features=4, out_features=16, bias=True)\n",
      "  (fc2): Linear(in_features=16, out_features=2, bias=True)\n",
      ")\n"
     ]
    }
   ],
   "source": [
    "start_time = time.time()\n",
    "scores = reinforce(n_episodes=5000) \n",
    "env.close() # Close the environment\n",
    "print('Elapsed : {}'.format(timedelta(seconds=time.time() - start_time)))\n",
    "print(datetime.now())\n",
    "# plot the scores\n",
    "fig = plt.figure()\n",
    "ax = fig.add_subplot(111)\n",
    "plt.plot(np.arange(len(scores)), scores)\n",
    "plt.ylabel('Score')\n",
    "plt.xlabel('Episode #')\n",
    "plt.show()\n",
    "print('Max Score {:2f} at {}'.format(np.max(scores), np.argmax(scores)))\n",
    "print('Percentile [25,50,75] : {}'.format(np.percentile(scores,[25,50,75])))\n",
    "print('Variance : {:.3f}'.format(np.var(scores)))\n",
    "print(policy)"
   ]
  },
  {
   "cell_type": "markdown",
   "metadata": {},
   "source": [
    "### A Few Good runs\n",
    "\n",
    "#### _Learns, Unlearns and relearns !!_\n",
    "\n",
    "<img src=\"reinforce_run_01.png\">\n",
    "\n",
    "<img src=\"reinforce_run.png\">"
   ]
  },
  {
   "cell_type": "markdown",
   "metadata": {},
   "source": [
    "## Part 3 : Test - Run a stored Model or test the current model"
   ]
  },
  {
   "cell_type": "markdown",
   "metadata": {},
   "source": [
    "### Note\n",
    "Here we are saving and loading the state dict, because we have access to the code.\n",
    "\n",
    "- `torch.save(agent.qnetwork_local.state_dict(), 'checkpoint.pth')`\n",
    "- `agent.qnetwork_local.load_state_dict(torch.load('checkpoint.pth'))\n",
    "\n",
    "The best way to save and load model, to be used by 2 distinct and separate entities is to :\n",
    "- `torch.save(model, filepath)`; \n",
    "- Then later, `model = torch.load(filepath)`"
   ]
  },
  {
   "cell_type": "code",
   "execution_count": 15,
   "metadata": {},
   "outputs": [],
   "source": [
    "# agent.qnetwork_local.load_state_dict(torch.load('checkpoint.pth'))"
   ]
  },
  {
   "cell_type": "markdown",
   "metadata": {},
   "source": [
    "### Points to Ponder\n",
    "1. While the algorithm is simple, it is at the mercy of random numbers !\n",
    "    * Sometimes it meanders around without solving the environment\n",
    "2. I have captures one run that did solve the environment\n",
    "3. Try various tweaks and learn"
   ]
  },
  {
   "cell_type": "markdown",
   "metadata": {},
   "source": [
    "## Test our Policy Network"
   ]
  },
  {
   "cell_type": "code",
   "execution_count": 16,
   "metadata": {},
   "outputs": [
    {
     "name": "stdout",
     "output_type": "stream",
     "text": [
      "Episode  1 Score 200.00\n",
      "Episode  2 Score 200.00\n",
      "Episode  3 Score 200.00\n",
      "Episode  4 Score 200.00\n",
      "Episode  5 Score 200.00\n",
      "Episode  6 Score 200.00\n",
      "Episode  7 Score 200.00\n",
      "Episode  8 Score 200.00\n",
      "Episode  9 Score 200.00\n",
      "Episode 10 Score 200.00\n",
      "Episode 11 Score 200.00\n",
      "Episode 12 Score 200.00\n",
      "Episode 13 Score 200.00\n",
      "Episode 14 Score 200.00\n",
      "Episode 15 Score 200.00\n",
      "Episode 16 Score 200.00\n",
      "Episode 17 Score 200.00\n",
      "Episode 18 Score 200.00\n",
      "Episode 19 Score 200.00\n",
      "Episode 20 Score 200.00\n",
      "Episode 21 Score 200.00\n",
      "Episode 22 Score 200.00\n",
      "Episode 23 Score 200.00\n",
      "Episode 24 Score 200.00\n",
      "Episode 25 Score 200.00\n",
      "Episode 26 Score 200.00\n",
      "Episode 27 Score 200.00\n",
      "Episode 28 Score 200.00\n",
      "Episode 29 Score 200.00\n",
      "Episode 30 Score 200.00\n",
      "Episode 31 Score 200.00\n",
      "Episode 32 Score 200.00\n",
      "Episode 33 Score 200.00\n",
      "Episode 34 Score 200.00\n",
      "Episode 35 Score 200.00\n",
      "Episode 36 Score 200.00\n",
      "Episode 37 Score 200.00\n",
      "Episode 38 Score 200.00\n",
      "Episode 39 Score 200.00\n",
      "Episode 40 Score 200.00\n",
      "Episode 41 Score 200.00\n",
      "Episode 42 Score 200.00\n",
      "Episode 43 Score 200.00\n",
      "Episode 44 Score 200.00\n",
      "Episode 45 Score 200.00\n",
      "Episode 46 Score 200.00\n",
      "Episode 47 Score 200.00\n",
      "Episode 48 Score 200.00\n",
      "Episode 49 Score 200.00\n",
      "Episode 50 Score 200.00\n",
      "Episode 51 Score 200.00\n",
      "Episode 52 Score 200.00\n",
      "Episode 53 Score 200.00\n",
      "Episode 54 Score 200.00\n",
      "Episode 55 Score 200.00\n",
      "Episode 56 Score 200.00\n",
      "Episode 57 Score 200.00\n",
      "Episode 58 Score 200.00\n",
      "Episode 59 Score 200.00\n",
      "Episode 60 Score 200.00\n",
      "Episode 61 Score 200.00\n",
      "Episode 62 Score 200.00\n",
      "Episode 63 Score 200.00\n",
      "Episode 64 Score 200.00\n",
      "Episode 65 Score 200.00\n",
      "Episode 66 Score 200.00\n",
      "Episode 67 Score 200.00\n",
      "Episode 68 Score 200.00\n",
      "Episode 69 Score 200.00\n",
      "Episode 70 Score 200.00\n",
      "Episode 71 Score 200.00\n",
      "Episode 72 Score 200.00\n",
      "Episode 73 Score 200.00\n",
      "Episode 74 Score 200.00\n",
      "Episode 75 Score 200.00\n",
      "Episode 76 Score 200.00\n",
      "Episode 77 Score 200.00\n",
      "Episode 78 Score 200.00\n",
      "Episode 79 Score 200.00\n",
      "Episode 80 Score 200.00\n",
      "Episode 81 Score 200.00\n",
      "Episode 82 Score 200.00\n",
      "Episode 83 Score 200.00\n",
      "Episode 84 Score 200.00\n",
      "Episode 85 Score 200.00\n",
      "Episode 86 Score 200.00\n",
      "Episode 87 Score 200.00\n",
      "Episode 88 Score 200.00\n",
      "Episode 89 Score 200.00\n",
      "Episode 90 Score 200.00\n",
      "Episode 91 Score 200.00\n",
      "Episode 92 Score 200.00\n",
      "Episode 93 Score 184.00\n",
      "Episode 94 Score 83.00\n",
      "Episode 95 Score 200.00\n",
      "Episode 96 Score 200.00\n",
      "Episode 97 Score 200.00\n",
      "Episode 98 Score 200.00\n",
      "Episode 99 Score 200.00\n",
      "Episode 100 Score 200.00\n",
      "Mean of 100 episodes = 198.67\n",
      "2019-01-18 09:15:58.832168\n"
     ]
    }
   ],
   "source": [
    "scores=[]\n",
    "for i in range(100): # 10 episodes\n",
    "    state = env.reset()                                   # reset the environment\n",
    "    score = 0                                             # initialize the score\n",
    "    while True:\n",
    "        action, _ = policy.act(state)                         # select an action\n",
    "        next_state, reward, done, info = env.step(action) # send the action to the environment\n",
    "        score += reward                                   # update the score\n",
    "        state = next_state                                # roll over the state to next time step\n",
    "        if done:                                          # exit loop if episode finished\n",
    "            break\n",
    "    scores.append(score)\n",
    "    print(\"Episode {:2d} Score {:5.2f}\".format(i+1,score))\n",
    "print('Mean of {} episodes = {}'.format(i+1,np.mean(scores)))\n",
    "print(datetime.now())\n",
    "env.close()"
   ]
  },
  {
   "cell_type": "code",
   "execution_count": 18,
   "metadata": {},
   "outputs": [],
   "source": [
    "env.close()"
   ]
  },
  {
   "cell_type": "markdown",
   "metadata": {},
   "source": [
    "## _That's all Folks !_"
   ]
  },
  {
   "cell_type": "code",
   "execution_count": null,
   "metadata": {},
   "outputs": [],
   "source": []
  }
 ],
 "metadata": {
  "kernelspec": {
   "display_name": "Python 3",
   "language": "python",
   "name": "python3"
  },
  "language_info": {
   "codemirror_mode": {
    "name": "ipython",
    "version": 3
   },
   "file_extension": ".py",
   "mimetype": "text/x-python",
   "name": "python",
   "nbconvert_exporter": "python",
   "pygments_lexer": "ipython3",
   "version": "3.7.1"
  }
 },
 "nbformat": 4,
 "nbformat_minor": 2
}
