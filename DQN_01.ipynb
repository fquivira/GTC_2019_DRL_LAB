{
 "cells": [
  {
   "cell_type": "markdown",
   "metadata": {},
   "source": [
    "# Hands On #6 - Balancing Cart Pole w/DQN\n",
    "\n",
    "## Goal:\n",
    "* Implement Deep Q-Learning for CartPole\n",
    "    * No digitization\n",
    "    * Handle continuous state\n",
    "\n",
    "## Steps:\n",
    "1. Program Deep Q Learning\n",
    "2. Intro to pytorch\n",
    "3. Metrics to solve Cart Pole\n",
    "4. Plot Values"
   ]
  },
  {
   "cell_type": "markdown",
   "metadata": {},
   "source": [
    "Reference : \n",
    "* My solution for the DQN https://github.com/xsankar/DQN_Navigation/blob/master/Navigation-v2.ipynb"
   ]
  },
  {
   "cell_type": "markdown",
   "metadata": {},
   "source": [
    "## Notebook Organization:\n",
    "\n",
    "### The notebook has 3 parts :\n",
    "\n",
    "* __Part 1__ : Defines the classes, initiates the environment and so forth. It sets up all the scaffolding needed\n",
    "* __Part 2__ : Explore and Learn - it performs the DQN Reinforcement Learning. It also saves the best model\n",
    "* __Part 3__ : Run saved model"
   ]
  },
  {
   "cell_type": "markdown",
   "metadata": {},
   "source": [
    "## Part 1 - Definitions & Setup\n",
    "----"
   ]
  },
  {
   "cell_type": "markdown",
   "metadata": {},
   "source": [
    "### 1. Install the required packages\n",
    "\n",
    "* No esoteric requirements\n",
    "* You can run them without docker\n",
    "* pip install -r requirements.txt\n",
    "* Requirements\n",
    " * python 3.6, pytorch, openAI gym, numpy, matplotlib\n",
    " * anaconda is easier but not needed\n",
    " * Miniconda works fine"
   ]
  },
  {
   "cell_type": "markdown",
   "metadata": {},
   "source": [
    "### 2. Define imports\n",
    "\n",
    "python 3, numpy, matplotlib, torch, gym"
   ]
  },
  {
   "cell_type": "code",
   "execution_count": 1,
   "metadata": {},
   "outputs": [],
   "source": [
    "# General imports\n",
    "import gym\n",
    "import PIL # for in-line display of certain environments\n",
    "\n",
    "import sys\n",
    "import numpy as np\n",
    "import random\n",
    "from collections import namedtuple, deque, defaultdict\n",
    "\n",
    "import matplotlib.pyplot as plt\n",
    "%matplotlib inline\n",
    "\n",
    "# torch imports\n",
    "import torch\n",
    "import torch.nn as nn\n",
    "import torch.nn.functional as F\n",
    "import torch.optim as optim"
   ]
  },
  {
   "cell_type": "markdown",
   "metadata": {},
   "source": [
    "### 2.1. Global Constants and other variables"
   ]
  },
  {
   "cell_type": "code",
   "execution_count": 2,
   "metadata": {},
   "outputs": [],
   "source": [
    "# Constants Definitions\n",
    "BUFFER_SIZE = 512 # int(1e5)  # replay buffer size\n",
    "BATCH_SIZE = 64         # minibatch size\n",
    "GAMMA = 0.99            # discount factor\n",
    "TAU = 1e-3              # for soft update of target parameters\n",
    "LR = 5e-4               # learning rate \n",
    "UPDATE_EVERY = 4        # how often to update the network\n",
    "# Number of neurons in the layers of the Q Network\n",
    "FC1_UNITS = 16\n",
    "FC2_UNITS = 8\n",
    "FC3_UNITS = 4\n",
    "# Store models flag. Store during calibration runs and do not store during hyperparameter search\n",
    "STORE_MODELS = False"
   ]
  },
  {
   "cell_type": "markdown",
   "metadata": {},
   "source": [
    "### Work Area"
   ]
  },
  {
   "cell_type": "code",
   "execution_count": 3,
   "metadata": {},
   "outputs": [
    {
     "name": "stdout",
     "output_type": "stream",
     "text": [
      "0.20943951023931956\n",
      "-0.20943951023931956\n"
     ]
    }
   ],
   "source": [
    "# Work area to quickly test utility functions\n",
    "import math\n",
    "import time\n",
    "from datetime import datetime, timedelta\n",
    "'''\n",
    "start_time = time.time()\n",
    "time.sleep(10)\n",
    "print('Elapsed : {}'.format(timedelta(seconds=time.time() - start_time)))\n",
    "'''\n",
    "print(math.radians(12))\n",
    "print(math.radians(-12))"
   ]
  },
  {
   "cell_type": "code",
   "execution_count": 4,
   "metadata": {},
   "outputs": [],
   "source": [
    "# import gym, PIL\n",
    "# env = gym.make('CartPole-v0')\n",
    "# array = env.reset()\n",
    "# PIL.Image.fromarray(env.render(mode='rgb_array'))"
   ]
  },
  {
   "cell_type": "markdown",
   "metadata": {},
   "source": [
    "### 3.0 Create instance & Explore"
   ]
  },
  {
   "cell_type": "code",
   "execution_count": 5,
   "metadata": {},
   "outputs": [
    {
     "name": "stderr",
     "output_type": "stream",
     "text": [
      "/miniconda3/lib/python3.7/site-packages/gym/envs/registration.py:14: PkgResourcesDeprecationWarning: Parameters to load are deprecated.  Call .resolve and .require separately.\n",
      "  result = entry_point.load(False)\n"
     ]
    },
    {
     "data": {
      "text/plain": [
       "array([-0.00207654,  0.01987368, -0.01300494,  0.01678067])"
      ]
     },
     "execution_count": 5,
     "metadata": {},
     "output_type": "execute_result"
    }
   ],
   "source": [
    "import gym\n",
    "env = gym.make('CartPole-v0')\n",
    "env.reset()\n",
    "# array = env.reset()\n",
    "# ** render doesn't work reliably on a server. Uncomment when running ** locally **\n",
    "# env.render()\n",
    "# PIL.Image.fromarray(env.render(mode='rgb_array'))"
   ]
  },
  {
   "cell_type": "markdown",
   "metadata": {},
   "source": [
    "### This what it will look like\n",
    "### We don't need the render(). We run it on headless mode and inspect the results\n",
    "<img src=\"CartPole_Render.jpg\">"
   ]
  },
  {
   "cell_type": "markdown",
   "metadata": {},
   "source": [
    "### 3.1 Examine the State and Action Spaces\n",
    "\n",
    "* The state space is continuous, with an observation space of 4 \n",
    "    * {x,$\\dot{x}$,$\\theta$, theta_dot}\n",
    "        * Cart Position,  Cart Velocity, Pole Angle, Pole Velocity at tip\n",
    "        * The angle, probably, is in radians\n",
    "\n",
    "The action space, on the contrary is simple viz. 0 = Left, 1 = Right"
   ]
  },
  {
   "cell_type": "code",
   "execution_count": 6,
   "metadata": {},
   "outputs": [
    {
     "name": "stdout",
     "output_type": "stream",
     "text": [
      "Box(4,)\n",
      "Discrete(2)\n",
      "[0, 1]\n",
      "[ 0 = Left, 1 = Right ]\n"
     ]
    }
   ],
   "source": [
    "print(env.observation_space)\n",
    "print(env.action_space)\n",
    "act_space = [i for i in range(0,env.action_space.n)]\n",
    "print(act_space)\n",
    "# env.unwrapped.get_action_meanings() # AttributeError: 'FrozenLakeEnv' object has no attribute 'get_action_meanings'\n",
    "print('[ 0 = Left, 1 = Right ]')"
   ]
  },
  {
   "cell_type": "code",
   "execution_count": 7,
   "metadata": {},
   "outputs": [
    {
     "name": "stdout",
     "output_type": "stream",
     "text": [
      "['__class__', '__delattr__', '__dict__', '__dir__', '__doc__', '__eq__', '__format__', '__ge__', '__getattribute__', '__gt__', '__hash__', '__init__', '__init_subclass__', '__le__', '__lt__', '__module__', '__ne__', '__new__', '__reduce__', '__reduce_ex__', '__repr__', '__setattr__', '__sizeof__', '__str__', '__subclasshook__', '__weakref__', '_elapsed_seconds', '_elapsed_steps', '_episode_started_at', '_max_episode_seconds', '_max_episode_steps', '_past_limit', 'action_space', 'class_name', 'close', 'compute_reward', 'env', 'metadata', 'observation_space', 'render', 'reset', 'reward_range', 'seed', 'spec', 'step', 'unwrapped']\n",
      "['__class__', '__delattr__', '__dict__', '__dir__', '__doc__', '__eq__', '__format__', '__ge__', '__getattribute__', '__gt__', '__hash__', '__init__', '__init_subclass__', '__le__', '__lt__', '__module__', '__ne__', '__new__', '__reduce__', '__reduce_ex__', '__repr__', '__setattr__', '__sizeof__', '__str__', '__subclasshook__', '__weakref__', 'action_space', 'close', 'force_mag', 'gravity', 'kinematics_integrator', 'length', 'masscart', 'masspole', 'metadata', 'np_random', 'observation_space', 'polemass_length', 'render', 'reset', 'reward_range', 'seed', 'spec', 'state', 'step', 'steps_beyond_done', 'tau', 'theta_threshold_radians', 'total_mass', 'unwrapped', 'viewer', 'x_threshold']\n",
      "States =  Box(4,)\n",
      "Actions =  Discrete(2)\n"
     ]
    }
   ],
   "source": [
    "print(dir(env))\n",
    "print(dir(env.unwrapped))\n",
    "# To see what functions and variables are availabe\n",
    "print('States = ',env.unwrapped.observation_space)\n",
    "print('Actions = ',env.unwrapped.action_space)"
   ]
  },
  {
   "cell_type": "code",
   "execution_count": 8,
   "metadata": {},
   "outputs": [],
   "source": [
    "state_size = env.observation_space.shape[0]\n",
    "action_size = env.action_space.n"
   ]
  },
  {
   "cell_type": "markdown",
   "metadata": {},
   "source": [
    "### 4. Test the environment with Random Action"
   ]
  },
  {
   "cell_type": "code",
   "execution_count": 9,
   "metadata": {},
   "outputs": [
    {
     "name": "stdout",
     "output_type": "stream",
     "text": [
      "[ [-0.01130514  0.01678494  0.03270756  0.04122328] ] -> 0  : [ [-0.01096944 -0.17879039  0.03353202  0.34404369] ] R= 1.0\n",
      "[ [-0.01096944 -0.17879039  0.03353202  0.34404369] ] -> 1  : [ [-0.01454525  0.01583888  0.0404129   0.06212045] ] R= 1.0\n",
      "[ [-0.01454525  0.01583888  0.0404129   0.06212045] ] -> 1  : [ [-0.01422847  0.2103588   0.04165531 -0.21754304] ] R= 1.0\n",
      "[ [-0.01422847  0.2103588   0.04165531 -0.21754304] ] -> 0  : [ [-0.0100213   0.0146669   0.03730445  0.08798331] ] R= 1.0\n",
      "[ [-0.0100213   0.0146669   0.03730445  0.08798331] ] -> 1  : [ [-0.00972796  0.20923483  0.03906411 -0.19270057] ] R= 1.0\n",
      "[ [-0.00972796  0.20923483  0.03906411 -0.19270057] ] -> 1  : [ [-0.00554326  0.40377681  0.0352101  -0.472809  ] ] R= 1.0\n",
      "[ [-0.00554326  0.40377681  0.0352101  -0.472809  ] ] -> 1  : [ [ 0.00253227  0.59838425  0.02575392 -0.75418959] ] R= 1.0\n",
      "[ [ 0.00253227  0.59838425  0.02575392 -0.75418959] ] -> 1  : [ [ 0.01449996  0.79314185  0.01067013 -1.0386583 ] ] R= 1.0\n",
      "[ [ 0.01449996  0.79314185  0.01067013 -1.0386583 ] ] -> 1  : [ [ 0.03036279  0.9881204  -0.01010304 -1.32797251] ] R= 1.0\n",
      "[ [ 0.03036279  0.9881204  -0.01010304 -1.32797251] ] -> 1  : [ [ 0.0501252   1.18336839 -0.03666249 -1.6237998 ] ] R= 1.0\n",
      "[ [ 0.0501252   1.18336839 -0.03666249 -1.6237998 ] ] -> 1  : [ [ 0.07379257  1.37890215 -0.06913848 -1.9276797 ] ] R= 1.0\n",
      "[ [ 0.07379257  1.37890215 -0.06913848 -1.9276797 ] ] -> 0  : [ [ 0.10137061  1.184586   -0.10769208 -1.65721236] ] R= 1.0\n",
      "[ [ 0.10137061  1.184586   -0.10769208 -1.65721236] ] -> 0  : [ [ 0.12506233  0.99087236 -0.14083632 -1.39992553] ] R= 1.0\n",
      "[ [ 0.12506233  0.99087236 -0.14083632 -1.39992553] ] -> 1  : [ [ 0.14487978  1.18743572 -0.16883483 -1.73312043] ] R= 1.0\n",
      "[ [ 0.14487978  1.18743572 -0.16883483 -1.73312043] ] -> 0  : [ [ 0.16862849  0.99459535 -0.20349724 -1.49737477] ] R= 1.0\n",
      "[ [ 0.16862849  0.99459535 -0.20349724 -1.49737477] ] -> 0  : [ [ 0.1885204   0.80244411 -0.23344474 -1.27451136] ] R= 1.0\n",
      "Episode 1 finished after 16 steps with a Total Reward = 16\n",
      "[ [ 0.03574345  0.00144424  0.00231929 -0.016103  ] ] -> 0  : [ [ 0.03577233 -0.1937109   0.00199723  0.27731078] ] R= 1.0\n",
      "[ [ 0.03577233 -0.1937109   0.00199723  0.27731078] ] -> 0  : [ [ 0.03189812 -0.38886128  0.00754344  0.57062296] ] R= 1.0\n",
      "[ [ 0.03189812 -0.38886128  0.00754344  0.57062296] ] -> 0  : [ [ 0.02412089 -0.58408821  0.0189559   0.86567277] ] R= 1.0\n",
      "[ [ 0.02412089 -0.58408821  0.0189559   0.86567277] ] -> 1  : [ [ 0.01243913 -0.38922931  0.03626936  0.57900964] ] R= 1.0\n",
      "[ [ 0.01243913 -0.38922931  0.03626936  0.57900964] ] -> 0  : [ [ 0.00465454 -0.58484028  0.04784955  0.88289398] ] R= 1.0\n",
      "[ [ 0.00465454 -0.58484028  0.04784955  0.88289398] ] -> 1  : [ [-0.00704226 -0.39039969  0.06550743  0.60562932] ] R= 1.0\n",
      "[ [-0.00704226 -0.39039969  0.06550743  0.60562932] ] -> 1  : [ [-0.01485026 -0.19625198  0.07762002  0.33427778] ] R= 1.0\n",
      "[ [-0.01485026 -0.19625198  0.07762002  0.33427778] ] -> 0  : [ [-0.0187753  -0.3923879   0.08430557  0.65039322] ] R= 1.0\n",
      "[ [-0.0187753  -0.3923879   0.08430557  0.65039322] ] -> 0  : [ [-0.02662306 -0.58857666  0.09731344  0.96838767] ] R= 1.0\n",
      "[ [-0.02662306 -0.58857666  0.09731344  0.96838767] ] -> 1  : [ [-0.03839459 -0.39488643  0.11668119  0.70779192] ] R= 1.0\n",
      "[ [-0.03839459 -0.39488643  0.11668119  0.70779192] ] -> 1  : [ [-0.04629232 -0.20155753  0.13083703  0.45399687] ] R= 1.0\n",
      "[ [-0.04629232 -0.20155753  0.13083703  0.45399687] ] -> 1  : [ [-0.05032347 -0.00850483  0.13991697  0.20524928] ] R= 1.0\n",
      "[ [-0.05032347 -0.00850483  0.13991697  0.20524928] ] -> 1  : [ [-0.05049356  0.18436785  0.14402195 -0.04023098] ] R= 1.0\n",
      "[ [-0.05049356  0.18436785  0.14402195 -0.04023098] ] -> 0  : [ [-0.04680621 -0.0124942   0.14321733  0.29420107] ] R= 1.0\n",
      "[ [-0.04680621 -0.0124942   0.14321733  0.29420107] ] -> 1  : [ [-0.04705609  0.18032642  0.14910135  0.04989342] ] R= 1.0\n",
      "[ [-0.04705609  0.18032642  0.14910135  0.04989342] ] -> 0  : [ [-0.04344956 -0.01658401  0.15009922  0.38565553] ] R= 1.0\n",
      "[ [-0.04344956 -0.01658401  0.15009922  0.38565553] ] -> 1  : [ [-0.04378124  0.17612388  0.15781233  0.14380749] ] R= 1.0\n",
      "[ [-0.04378124  0.17612388  0.15781233  0.14380749] ] -> 0  : [ [-0.04025877 -0.02086477  0.16068848  0.48182312] ] R= 1.0\n",
      "[ [-0.04025877 -0.02086477  0.16068848  0.48182312] ] -> 1  : [ [-0.04067606  0.17166774  0.17032494  0.24378421] ] R= 1.0\n",
      "[ [-0.04067606  0.17166774  0.17032494  0.24378421] ] -> 1  : [ [-0.03724271  0.36399944  0.17520063  0.00929505] ] R= 1.0\n",
      "[ [-0.03724271  0.36399944  0.17520063  0.00929505] ] -> 0  : [ [-0.02996272  0.16685425  0.17538653  0.35173175] ] R= 1.0\n",
      "[ [-0.02996272  0.16685425  0.17538653  0.35173175] ] -> 1  : [ [-0.02662563  0.35910494  0.18242116  0.11907934] ] R= 1.0\n",
      "[ [-0.02662563  0.35910494  0.18242116  0.11907934] ] -> 1  : [ [-0.01944353  0.55120827  0.18480275 -0.11095955] ] R= 1.0\n",
      "[ [-0.01944353  0.55120827  0.18480275 -0.11095955] ] -> 0  : [ [-0.00841937  0.35398538  0.18258356  0.23386076] ] R= 1.0\n",
      "[ [-0.00841937  0.35398538  0.18258356  0.23386076] ] -> 0  : [ [-0.00133966  0.15678811  0.18726078  0.57812172] ] R= 1.0\n",
      "[ [-0.00133966  0.15678811  0.18726078  0.57812172] ] -> 1  : [ [0.0017961  0.34886042 0.19882321 0.34978347] ] R= 1.0\n",
      "[ [0.0017961  0.34886042 0.19882321 0.34978347] ] -> 0  : [ [0.00877331 0.15154842 0.20581888 0.69799047] ] R= 1.0\n",
      "[ [0.00877331 0.15154842 0.20581888 0.69799047] ] -> 1  : [ [0.01180428 0.34331238 0.21977869 0.47650004] ] R= 1.0\n",
      "Episode 2 finished after 28 steps with a Total Reward = 28\n",
      "[ [-0.00310711 -0.04381299 -0.02644267 -0.04896452] ] -> 1  : [ [-0.00398337  0.15167795 -0.02742196 -0.34987166] ] R= 1.0\n",
      "[ [-0.00398337  0.15167795 -0.02742196 -0.34987166] ] -> 1  : [ [-0.00094981  0.34717895 -0.0344194  -0.65107395] ] R= 1.0\n",
      "[ [-0.00094981  0.34717895 -0.0344194  -0.65107395] ] -> 1  : [ [ 0.00599377  0.54276295 -0.04744088 -0.9543935 ] ] R= 1.0\n",
      "[ [ 0.00599377  0.54276295 -0.04744088 -0.9543935 ] ] -> 1  : [ [ 0.01684903  0.73848991 -0.06652875 -1.261596  ] ] R= 1.0\n",
      "[ [ 0.01684903  0.73848991 -0.06652875 -1.261596  ] ] -> 0  : [ [ 0.03161882  0.54427884 -0.09176067 -0.99046887] ] R= 1.0\n",
      "[ [ 0.03161882  0.54427884 -0.09176067 -0.99046887] ] -> 1  : [ [ 0.0425044   0.74050114 -0.11157004 -1.31050385] ] R= 1.0\n",
      "[ [ 0.0425044   0.74050114 -0.11157004 -1.31050385] ] -> 0  : [ [ 0.05731442  0.54695503 -0.13778012 -1.05472331] ] R= 1.0\n",
      "[ [ 0.05731442  0.54695503 -0.13778012 -1.05472331] ] -> 1  : [ [ 0.06825352  0.74360754 -0.15887459 -1.38728598] ] R= 1.0\n",
      "[ [ 0.06825352  0.74360754 -0.15887459 -1.38728598] ] -> 1  : [ [ 0.08312567  0.94031253 -0.18662031 -1.72514038] ] R= 1.0\n",
      "[ [ 0.08312567  0.94031253 -0.18662031 -1.72514038] ] -> 1  : [ [ 0.10193193  1.137015   -0.22112311 -2.06961949] ] R= 1.0\n",
      "Episode 3 finished after 10 steps with a Total Reward = 10\n"
     ]
    }
   ],
   "source": [
    "for i_episode in range(3):\n",
    "    state = env.reset()\n",
    "    tot_reward = 0\n",
    "    steps = 0\n",
    "    while True:\n",
    "        action = env.action_space.sample()\n",
    "        next_state, reward, done, info = env.step(action)\n",
    "        print('[',state,']','->', action,' : [',next_state,']', 'R=',reward)\n",
    "        # env.render() # Uncomment when running ** locally **. But no need, headless operation is fine\n",
    "        tot_reward += reward\n",
    "        steps += 1\n",
    "        if done:\n",
    "            print('Episode {:d} finished after {:d} steps with a Total Reward = {:.0f}'.\n",
    "                  format(i_episode+1,steps, tot_reward))\n",
    "            break\n",
    "        else:\n",
    "            state = next_state\n",
    "# Pole angle +/-12 degrees, Cart Pos +/- 2.4 or 200 steps\n",
    "# Cart Pos, Velocity, Pole Angle, Velocity\n",
    "# 12 degrees = .2094 radians"
   ]
  },
  {
   "cell_type": "markdown",
   "metadata": {},
   "source": [
    "## The Algorithms"
   ]
  },
  {
   "cell_type": "markdown",
   "metadata": {},
   "source": [
    "## Deep Q Learning\n",
    "### Let us implement a decent Deep Q-Learning Algorithm\n",
    "<img src='DQN_Alg.png'>"
   ]
  },
  {
   "cell_type": "markdown",
   "metadata": {},
   "source": [
    "The major components of the algorithm are:\n",
    "1. `A function approximator` implemented as a Deep Neural Network whih consists of fully connected layers. The function approximator learns the Q values for all the actions for a state space. The cartpole environment has a state space of 4 and an action space of 2. So out network has an inputsize of 4 and an output size of 2. It is a simple network.\n",
    "2. `Experience replay buffer` - in order to train the network we take actions and then store the results in the replay buffer. The replay buffer is a circular buffer and it has methods to sample a random batch\n",
    "3. `The Agent` brings all of the above together. It interacts with the environment by taking actions based on a policy, collects rewards and the observation feedback, then stores the experience in the replay buffer and also initiates a learning step on the Q Network."
   ]
  },
  {
   "cell_type": "markdown",
   "metadata": {},
   "source": [
    "### The Agent Architecture\n",
    "#### The agent has 3 main components viz:\n",
    "1. The DQN Orchestrator which interacts with the environment by taking actions and then unpacking the returned package to rewards, state space et al.\n",
    "2. It also has to do housekeeping like tracking scores, store high performant models and check when the problem is solved\n",
    "3. The 3rd component is the most interesting one, which gives the agent the capability to select right actions that maximize long term rewards\n",
    " * The fundamental unit is the Q value, which is the total expected reward, discounted for the future actions\n",
    " * The Q value is represented as Q(s,a) i.e. q values for all states for a state. In our case the dimensionality of the state is 4 and 2 actions are possible.\n",
    " * One method is to store all the Q-values in a dictionary with the state and action as key.\n",
    " * Another important concept is the policy i.e. the strategy to choose an action at a given state. We follow the ε-greedy policy i.e. for a probability of ε, we choose a random action and choose the action that maximizes the total reward otherwise.\n",
    " * So, if we have all the Q values in a table, we can search the actions for every state and then choose the action based on the ε-greedy policy. But as the state space becomes larger or even continuous, this table becomes unmanageable and resource consuming even impossible.\n",
    " * Function Approximator – Instead of the Q Table, we can train a function approximator which then can give us the q-value for a given state-action pair.\n",
    " * The function approximator in the DQN algorithm is a neural network, which gives a state returns the q-values for all the actions. This approach is better because, otherwise we need to run the inferencing for each of the action at every state\n",
    "  * Now the challenge is how to train the network. There a few points to explore.\n",
    "   * First is data. Usually the Reinforcement Learning problems involve a sequence of actions and so the Q values are correlated. So then learning run samples from a cache of State-Action-Reward tuple called the experience replay. This gives the network uncorrelated data to learn from. The experience replay buffer is a circular cache\n",
    "  * Second is the training algorithm –we use the Fully Connected Neural Networks and train them using SGD (Stochastic Gradient Descent). The actual implementation uses the Adam optimizer. The training algorithm is succinctly captured in the following figure from Udacity.\n",
    "  <img src=\"DQN_sgd.png\">\n",
    "  * In the above diagram, we have no way of getting the target yj. Interestingly this value is obtained from a target network that is exactly same as the expected value network, but updated less frequently. In the actual implementation, it is updated using the exponential decaying technique with the decay constant 𝛕 = 0.001."
   ]
  },
  {
   "cell_type": "code",
   "execution_count": 10,
   "metadata": {},
   "outputs": [],
   "source": [
    "class QNetwork(nn.Module):\n",
    "    \"\"\"Actor (Policy) Model.\"\"\"\n",
    "\n",
    "    def __init__(self, state_size, action_size, seed, fc1_units = FC1_UNITS, fc2_units = FC2_UNITS, \n",
    "                 fc3_units = FC3_UNITS):\n",
    "        \"\"\"Initialize parameters and build model.\n",
    "        Params\n",
    "        ======\n",
    "            state_size (int): Dimension of each state\n",
    "            action_size (int): Dimension of each action\n",
    "            seed (int): Random seed\n",
    "            fcx_units : Number of units in each layer\n",
    "            ToDo : It is a little klugy, as the network is built manually layer-by-layer.\n",
    "                Should take in a list fc_units and then dynamically build the network\n",
    "        \"\"\"\n",
    "        super(QNetwork, self).__init__()\n",
    "        self.seed = torch.manual_seed(seed)\n",
    "        self.fc1 = nn.Linear(state_size,fc1_units)\n",
    "        # self.fc2 = nn.Linear(fc1_units,fc2_units)\n",
    "        # self.fc3 = nn.Linear(fc2_units,fc3_units)\n",
    "        # self.fc4 = nn.Linear(fc3_units,action_size)\n",
    "        self.fc4 = nn.Linear(fc1_units,action_size)\n",
    "\n",
    "    def forward(self, state):\n",
    "        \"\"\"Build a network that maps state -> action values.\"\"\"\n",
    "        x = F.relu(self.fc1(state))\n",
    "        # x = F.relu(self.fc2(x))\n",
    "        # x = F.relu(self.fc3(x))\n",
    "        x = self.fc4(x)\n",
    "        return x"
   ]
  },
  {
   "cell_type": "code",
   "execution_count": 11,
   "metadata": {},
   "outputs": [],
   "source": [
    "class ReplayBuffer:\n",
    "    \"\"\"Fixed-size buffer to store experience tuples.\"\"\"\n",
    "\n",
    "    def __init__(self, action_size, buffer_size, batch_size, seed):\n",
    "        \"\"\"Initialize a ReplayBuffer object.\n",
    "\n",
    "        Params\n",
    "        ======\n",
    "            action_size (int): dimension of each action\n",
    "            buffer_size (int): maximum size of buffer\n",
    "            batch_size (int): size of each training batch\n",
    "            seed (int): random seed\n",
    "        \"\"\"\n",
    "        self.action_size = action_size\n",
    "        self.memory = deque(maxlen=buffer_size)  \n",
    "        self.batch_size = batch_size\n",
    "        self.experience = namedtuple(\"Experience\", field_names=[\"state\", \"action\", \"reward\", \"next_state\", \"done\"])\n",
    "        self.seed = random.seed(seed)\n",
    "    \n",
    "    def add(self, state, action, reward, next_state, done):\n",
    "        \"\"\"Add a new experience to memory.\"\"\"\n",
    "        e = self.experience(state, action, reward, next_state, done)\n",
    "        self.memory.append(e)\n",
    "    \n",
    "    def sample(self):\n",
    "        \"\"\"Randomly sample a batch of experiences from memory.\"\"\"\n",
    "        experiences = random.sample(self.memory, k=self.batch_size)\n",
    "\n",
    "        states = torch.from_numpy(np.vstack([e.state for e in experiences if e is not None])).float()\n",
    "        actions = torch.from_numpy(np.vstack([e.action for e in experiences if e is not None])).long()\n",
    "        rewards = torch.from_numpy(np.vstack([e.reward for e in experiences if e is not None])).float()\n",
    "        next_states = torch.from_numpy(np.vstack([e.next_state for e in experiences if e is not None])).float()\n",
    "        dones = torch.from_numpy(np.vstack([e.done for e in experiences if e is not None]).astype(np.uint8)).float()\n",
    "        #\n",
    "        return (states, actions, rewards, next_states, dones)\n",
    "\n",
    "    def __len__(self):\n",
    "        \"\"\"Return the current size of internal memory.\"\"\"\n",
    "        return len(self.memory)"
   ]
  },
  {
   "cell_type": "code",
   "execution_count": 12,
   "metadata": {},
   "outputs": [],
   "source": [
    "class Agent():\n",
    "    \"\"\"Interacts with and learns from the environment.\"\"\"\n",
    "\n",
    "    def __init__(self, state_size, action_size, seed):\n",
    "        \"\"\"Initialize an Agent object.\n",
    "        \n",
    "        Params\n",
    "        ======\n",
    "            state_size (int): dimension of each state\n",
    "            action_size (int): dimension of each action\n",
    "            seed (int): random seed\n",
    "        \"\"\"\n",
    "        self.state_size = state_size\n",
    "        self.action_size = action_size\n",
    "        self.seed = random.seed(seed)\n",
    "\n",
    "        # Q-Network\n",
    "        self.qnetwork_local = QNetwork(state_size, action_size, seed)\n",
    "        self.qnetwork_target = QNetwork(state_size, action_size, seed)\n",
    "        self.optimizer = optim.Adam(self.qnetwork_local.parameters(), lr=LR)\n",
    "\n",
    "        # Replay memory\n",
    "        self.memory = ReplayBuffer(action_size, BUFFER_SIZE, BATCH_SIZE, seed)\n",
    "        # Initialize time step (for updating every UPDATE_EVERY steps)\n",
    "        self.t_step = 0\n",
    "    \n",
    "    def step(self, state, action, reward, next_state, done):\n",
    "        # Save experience in replay memory\n",
    "        self.memory.add(state, action, reward, next_state, done)\n",
    "        \n",
    "        # Learn every UPDATE_EVERY time steps.\n",
    "        self.t_step = (self.t_step + 1) % UPDATE_EVERY\n",
    "        if self.t_step == 0:\n",
    "            # If enough samples are available in memory, get random subset and learn\n",
    "            if len(self.memory) > BATCH_SIZE:\n",
    "                experiences = self.memory.sample()\n",
    "                self.learn(experiences, GAMMA)\n",
    "\n",
    "    def act(self, state, eps=0.1):\n",
    "        \"\"\"Returns actions for given state as per current policy.\n",
    "        \n",
    "        Params\n",
    "        ======\n",
    "            state (array_like): current state\n",
    "            eps (float): epsilon, for epsilon-greedy action selection\n",
    "        \"\"\"\n",
    "        state = torch.from_numpy(state).float().unsqueeze(0)\n",
    "        self.qnetwork_local.eval()\n",
    "        with torch.no_grad():\n",
    "            action_values = self.qnetwork_local(state)\n",
    "        self.qnetwork_local.train()\n",
    "\n",
    "        # Epsilon-greedy action selection\n",
    "        if random.random() > eps:\n",
    "            return np.argmax(action_values.cpu().data.numpy())\n",
    "        else:\n",
    "            return random.choice(np.arange(self.action_size))\n",
    "\n",
    "    def learn(self, experiences, gamma):\n",
    "        \"\"\"Update value parameters using given batch of experience tuples.\n",
    "\n",
    "        Params\n",
    "        ======\n",
    "            experiences (Tuple[torch.Variable]): tuple of (s, a, r, s', done) tuples \n",
    "            gamma (float): discount factor\n",
    "        \"\"\"\n",
    "        states, actions, rewards, next_states, dones = experiences\n",
    "\n",
    "        # compute and minimize the loss\n",
    "        # Get max predicted Q values (for next states) from target model\n",
    "        Q_targets_next = self.qnetwork_target(next_states).detach().max(1)[0].unsqueeze(1)\n",
    "        # Compute Q targets for current states\n",
    "        Q_targets = rewards + gamma * Q_targets_next * (1 - dones)\n",
    "        \n",
    "        # Get expected Q values from local model\n",
    "        Q_expected = self.qnetwork_local(states).gather(1,actions)\n",
    "        \n",
    "        # Compute Loss\n",
    "        loss = F.mse_loss(Q_expected,Q_targets)\n",
    "        \n",
    "        #Minimize Loss\n",
    "        self.optimizer.zero_grad()\n",
    "        loss.backward()\n",
    "        self.optimizer.step()\n",
    "\n",
    "        # ------------------- update target network ------------------- #\n",
    "        self.soft_update(self.qnetwork_local, self.qnetwork_target, TAU)                     \n",
    "\n",
    "    def soft_update(self, local_model, target_model, tau):\n",
    "        \"\"\"Soft update model parameters.\n",
    "        θ_target = τ*θ_local + (1 - τ)*θ_target\n",
    "\n",
    "        Params\n",
    "        ======\n",
    "            local_model (PyTorch model): weights will be copied from\n",
    "            target_model (PyTorch model): weights will be copied to\n",
    "            tau (float): interpolation parameter \n",
    "        \"\"\"\n",
    "        for target_param, local_param in zip(target_model.parameters(), local_model.parameters()):\n",
    "            target_param.data.copy_(tau*local_param.data + (1.0-tau)*target_param.data)"
   ]
  },
  {
   "cell_type": "markdown",
   "metadata": {},
   "source": [
    "# 1.6. Instantiate an agent\n",
    "\n",
    "The state space and the action space dimensions come from the environment"
   ]
  },
  {
   "cell_type": "code",
   "execution_count": 13,
   "metadata": {},
   "outputs": [
    {
     "name": "stdout",
     "output_type": "stream",
     "text": [
      "QNetwork(\n",
      "  (fc1): Linear(in_features=4, out_features=16, bias=True)\n",
      "  (fc4): Linear(in_features=16, out_features=2, bias=True)\n",
      ")\n"
     ]
    }
   ],
   "source": [
    "agent = Agent(state_size=state_size, action_size=action_size, seed=42)\n",
    "print(agent.qnetwork_local)"
   ]
  },
  {
   "cell_type": "markdown",
   "metadata": {},
   "source": [
    "## Part 2 - Learn & Train\n",
    "-----"
   ]
  },
  {
   "cell_type": "markdown",
   "metadata": {},
   "source": [
    "### 2.1. DQN Algorithm\n",
    "\n",
    "Define the DQN Algorithm. Once we have defined the foundations (network, buffer, agent and so forth), the DQN is relatively easy. It has a few responsibilities:\n",
    "1. Orchastrate the episodes calling the appropriate methods\n",
    "2. Display a running commentry of the scores and episode count\n",
    "3. Check the success criterion for solving the environment i.e. if running average is > 13 and print the episode count\n",
    "4. Store the model with the maximum score\n",
    "5. Keep track of the scores for analytics at the end of the run"
   ]
  },
  {
   "cell_type": "code",
   "execution_count": 14,
   "metadata": {},
   "outputs": [],
   "source": [
    "def dqn(n_episodes=2000, max_t=1000, eps_start=1.0, eps_end=0.01, eps_decay=0.995):\n",
    "    \"\"\"Deep Q-Learning.\n",
    "    \n",
    "    Params\n",
    "    ======\n",
    "        n_episodes (int): maximum number of training episodes\n",
    "        max_t (int): maximum number of timesteps per episode\n",
    "        eps_start (float): starting value of epsilon, for epsilon-greedy action selection\n",
    "        eps_end (float): minimum value of epsilon\n",
    "        eps_decay (float): multiplicative factor (per episode) for decreasing epsilon\n",
    "    \"\"\"\n",
    "    scores = []                        # list containing scores from each episode\n",
    "    scores_window = deque(maxlen=100)  # last 100 scores\n",
    "    eps = eps_start                    # initialize epsilon\n",
    "    has_seen_195 = False\n",
    "    max_score = 0\n",
    "    for i_episode in range(1, n_episodes+1):\n",
    "        state = env.reset()         # reset the environment\n",
    "        score = 0\n",
    "        max_steps = 0\n",
    "        while True:\n",
    "            action = agent.act(state, eps)\n",
    "            next_state, reward, done, _ = env.step(action) # send the action to the environment\n",
    "            #\n",
    "            agent.step(state, action, reward, next_state, done)\n",
    "            state = next_state\n",
    "            score += reward\n",
    "            max_steps += 1\n",
    "            if done:\n",
    "                break \n",
    "        scores_window.append(score)       # save most recent score\n",
    "        scores.append(score)              # save most recent score\n",
    "        eps = max(eps_end, eps_decay*eps) # decrease epsilon\n",
    "        print('\\rEpisode : {}\\tAverage Score : {:5.2f}\\tMax_steps : {}\\teps : {:5.3f}\\tMax.Score : {:5.3f}'.\\\n",
    "              format(i_episode, np.mean(scores_window),max_steps,eps,max_score), end=\"\")\n",
    "        if i_episode % 100 == 0:\n",
    "            print('\\rEpisode : {}\\tAverage Score : {:5.2f}\\tMax_steps : {}\\teps : {:5.3f}\\tMax.Score : {:5.3f}'.\\\n",
    "                  format(i_episode, np.mean(scores_window),max_steps,eps,max_score))\n",
    "        if (np.mean(scores_window)>=195.0) and (not has_seen_195):\n",
    "            print('\\nEnvironment solved in {:d} episodes!\\tAverage Score: {:5.2f}'.\\\n",
    "                  format(i_episode-100, np.mean(scores_window)))\n",
    "            # torch.save(agent.qnetwork_local.state_dict(), 'checkpoint.pth')\n",
    "            has_seen_195 = True\n",
    "            break # early stop gives perfect score during testing !!\n",
    "            # To see how far it can go we can comment the break. But it didn't work out for me.\n",
    "        # Store the best model if desired\n",
    "        if STORE_MODELS:\n",
    "            if np.mean(scores_window) > max_score:\n",
    "                max_score = np.mean(scores_window)\n",
    "                torch.save(agent.qnetwork_local.state_dict(), 'checkpoint.pth')\n",
    "                # print(' .. Storing with score {}'.format(max_score))\n",
    "        if score > max_score:\n",
    "            max_score = score\n",
    "    return scores"
   ]
  },
  {
   "cell_type": "markdown",
   "metadata": {},
   "source": [
    "### 2.2. The actual training Run\n",
    "\n",
    "1. Run the DQN\n",
    "2. Calculate and display end-of-run analytics viz. descriptive statistics and a plot of the scores"
   ]
  },
  {
   "cell_type": "code",
   "execution_count": 15,
   "metadata": {},
   "outputs": [
    {
     "name": "stdout",
     "output_type": "stream",
     "text": [
      "Episode : 100\tAverage Score : 22.92\tMax_steps : 26\teps : 0.951\tMax.Score : 71.000\n",
      "Episode : 200\tAverage Score : 20.21\tMax_steps : 15\teps : 0.905\tMax.Score : 80.000\n",
      "Episode : 300\tAverage Score : 21.73\tMax_steps : 12\teps : 0.861\tMax.Score : 93.000\n",
      "Episode : 400\tAverage Score : 22.34\tMax_steps : 16\teps : 0.819\tMax.Score : 93.000\n",
      "Episode : 500\tAverage Score : 22.72\tMax_steps : 10\teps : 0.779\tMax.Score : 97.000\n",
      "Episode : 600\tAverage Score : 26.09\tMax_steps : 37\teps : 0.741\tMax.Score : 99.000\n",
      "Episode : 700\tAverage Score : 30.28\tMax_steps : 18\teps : 0.705\tMax.Score : 99.000\n",
      "Episode : 800\tAverage Score : 30.64\tMax_steps : 25\teps : 0.670\tMax.Score : 99.000\n",
      "Episode : 900\tAverage Score : 46.54\tMax_steps : 148\teps : 0.638\tMax.Score : 158.000\n",
      "Episode : 1000\tAverage Score : 72.23\tMax_steps : 101\teps : 0.606\tMax.Score : 168.000\n",
      "Episode : 1100\tAverage Score : 75.40\tMax_steps : 40\teps : 0.577\tMax.Score : 200.0000\n",
      "Episode : 1200\tAverage Score : 93.07\tMax_steps : 200\teps : 0.549\tMax.Score : 200.000\n",
      "Episode : 1300\tAverage Score : 109.59\tMax_steps : 179\teps : 0.522\tMax.Score : 200.000\n",
      "Episode : 1400\tAverage Score : 111.97\tMax_steps : 39\teps : 0.496\tMax.Score : 200.0000\n",
      "Episode : 1500\tAverage Score : 136.98\tMax_steps : 169\teps : 0.472\tMax.Score : 200.000\n",
      "Episode : 1600\tAverage Score : 138.50\tMax_steps : 127\teps : 0.449\tMax.Score : 200.000\n",
      "Episode : 1700\tAverage Score : 145.75\tMax_steps : 123\teps : 0.427\tMax.Score : 200.000\n",
      "Episode : 1800\tAverage Score : 158.15\tMax_steps : 198\teps : 0.406\tMax.Score : 200.000\n",
      "Episode : 1900\tAverage Score : 153.22\tMax_steps : 77\teps : 0.387\tMax.Score : 200.0000\n",
      "Episode : 2000\tAverage Score : 152.44\tMax_steps : 156\teps : 0.368\tMax.Score : 200.000\n",
      "Episode : 2100\tAverage Score : 177.95\tMax_steps : 156\teps : 0.350\tMax.Score : 200.000\n",
      "Episode : 2200\tAverage Score : 177.00\tMax_steps : 200\teps : 0.333\tMax.Score : 200.000\n",
      "Episode : 2300\tAverage Score : 180.27\tMax_steps : 200\teps : 0.317\tMax.Score : 200.000\n",
      "Episode : 2400\tAverage Score : 187.87\tMax_steps : 200\teps : 0.301\tMax.Score : 200.000\n",
      "Episode : 2500\tAverage Score : 187.66\tMax_steps : 200\teps : 0.286\tMax.Score : 200.000\n",
      "Episode : 2600\tAverage Score : 182.57\tMax_steps : 148\teps : 0.272\tMax.Score : 200.000\n",
      "Episode : 2700\tAverage Score : 171.99\tMax_steps : 200\teps : 0.259\tMax.Score : 200.000\n",
      "Episode : 2800\tAverage Score : 183.69\tMax_steps : 200\teps : 0.247\tMax.Score : 200.000\n",
      "Episode : 2900\tAverage Score : 192.24\tMax_steps : 200\teps : 0.234\tMax.Score : 200.000\n",
      "Episode : 3000\tAverage Score : 193.30\tMax_steps : 191\teps : 0.223\tMax.Score : 200.000\n",
      "Episode : 3027\tAverage Score : 195.50\tMax_steps : 200\teps : 0.220\tMax.Score : 200.000\n",
      "Environment solved in 2927 episodes!\tAverage Score: 195.50\n",
      "Elapsed : 0:03:21.086424\n",
      "2019-02-08 10:47:42.104087\n"
     ]
    },
    {
     "data": {
      "image/png": "[encoded data removed]",
      "text/plain": [
       "<Figure size 432x288 with 1 Axes>"
      ]
     },
     "metadata": {
      "needs_background": "light"
     },
     "output_type": "display_data"
    },
    {
     "name": "stdout",
     "output_type": "stream",
     "text": [
      "QNetwork(\n",
      "  (fc1): Linear(in_features=4, out_features=16, bias=True)\n",
      "  (fc4): Linear(in_features=16, out_features=2, bias=True)\n",
      ")\n",
      "Max Score 200.000000 at 1035\n",
      "Percentile [25,50,75] : [ 31. 128. 200.]\n",
      "Variance : 5854.559\n"
     ]
    }
   ],
   "source": [
    "start_time = time.time()\n",
    "scores = dqn(n_episodes=5000,eps_end=0.01, eps_decay=0.9995) \n",
    "env.close() # Close the environment\n",
    "print('Elapsed : {}'.format(timedelta(seconds=time.time() - start_time)))\n",
    "print(datetime.now())\n",
    "# plot the scores\n",
    "fig = plt.figure()\n",
    "ax = fig.add_subplot(111)\n",
    "plt.plot(np.arange(len(scores)), scores)\n",
    "plt.ylabel('Score')\n",
    "plt.xlabel('Episode #')\n",
    "plt.show()\n",
    "print(agent.qnetwork_local)\n",
    "print('Max Score {:2f} at {}'.format(np.max(scores), np.argmax(scores)))\n",
    "print('Percentile [25,50,75] : {}'.format(np.percentile(scores,[25,50,75])))\n",
    "print('Variance : {:.3f}'.format(np.var(scores)))"
   ]
  },
  {
   "cell_type": "markdown",
   "metadata": {},
   "source": [
    "### Sample Run\n",
    "#### Usually solves in ~4000 steps. \n",
    "#### It can do it in ~2400, but misses and unlearns\n",
    "---\n",
    "<img src=\"DQN_Solution.png\">"
   ]
  },
  {
   "cell_type": "markdown",
   "metadata": {},
   "source": [
    "## Part 3 : Test - Run a stored Model or test the current model"
   ]
  },
  {
   "cell_type": "markdown",
   "metadata": {},
   "source": [
    "### Note\n",
    "Here we are saving and loading the state dict, because we have access to the code.\n",
    "\n",
    "- `torch.save(agent.qnetwork_local.state_dict(), 'checkpoint.pth')`\n",
    "- `agent.qnetwork_local.load_state_dict(torch.load('checkpoint.pth'))\n",
    "\n",
    "The best way to save and load model, to be used by 2 distinct and separate entities is to :\n",
    "- `torch.save(model, filepath)`; \n",
    "- Then later, `model = torch.load(filepath)`"
   ]
  },
  {
   "cell_type": "code",
   "execution_count": 16,
   "metadata": {},
   "outputs": [],
   "source": [
    "# agent.qnetwork_local.load_state_dict(torch.load('checkpoint.pth'))"
   ]
  },
  {
   "cell_type": "markdown",
   "metadata": {},
   "source": [
    "### Points to Ponder\n",
    "1. There is a form-fit equilibrium for every Deep Learning problem\n",
    "2. I tried with a replay buffer of 100,000 and a network FC16-FC8-FC4-FC2\n",
    "    * This couldn't find it's way around even after 100,000 episodes. It would just meander !\n",
    "3. Reduced the buffer to 512, minibatch size = 64 (as before) and a tiny network FC16-FC2\n",
    "    * Worked 1st time, solved the environment in 2582 episodes\n",
    "    * I had set the number of episodes as 5,000. The network then was able to get a score of only ~123 during the test below.\n",
    "4. The env cuts off after 200 episodes. So we can't get a score higher than 200\n",
    "5. An early stop gives perferct 200 in the test below !! \n",
    "    * We have to assume that the network did learn a trick or two !!\n",
    "    * And no digitization and the network can handle continuous state space (for co ntinuous action soace we need DDPG!)\n",
    "<img src=\"Confidence.png\">"
   ]
  },
  {
   "cell_type": "markdown",
   "metadata": {},
   "source": [
    "## Test our Q network"
   ]
  },
  {
   "cell_type": "code",
   "execution_count": 17,
   "metadata": {},
   "outputs": [
    {
     "name": "stdout",
     "output_type": "stream",
     "text": [
      "Episode  1 Score 200.00\n",
      "Episode  2 Score 200.00\n",
      "Episode  3 Score 200.00\n",
      "Episode  4 Score 200.00\n",
      "Episode  5 Score 200.00\n",
      "Episode  6 Score 200.00\n",
      "Episode  7 Score 200.00\n",
      "Episode  8 Score 200.00\n",
      "Episode  9 Score 200.00\n",
      "Episode 10 Score 200.00\n",
      "Episode 11 Score 200.00\n",
      "Episode 12 Score 200.00\n",
      "Episode 13 Score 200.00\n",
      "Episode 14 Score 200.00\n",
      "Episode 15 Score 200.00\n",
      "Episode 16 Score 200.00\n",
      "Episode 17 Score 200.00\n",
      "Episode 18 Score 200.00\n",
      "Episode 19 Score 200.00\n",
      "Episode 20 Score 200.00\n",
      "Episode 21 Score 200.00\n",
      "Episode 22 Score 200.00\n",
      "Episode 23 Score 200.00\n",
      "Episode 24 Score 200.00\n",
      "Episode 25 Score 200.00\n",
      "Episode 26 Score 200.00\n",
      "Episode 27 Score 200.00\n",
      "Episode 28 Score 200.00\n",
      "Episode 29 Score 200.00\n",
      "Episode 30 Score 200.00\n",
      "Episode 31 Score 200.00\n",
      "Episode 32 Score 200.00\n",
      "Episode 33 Score 200.00\n",
      "Episode 34 Score 200.00\n",
      "Episode 35 Score 200.00\n",
      "Episode 36 Score 200.00\n",
      "Episode 37 Score 200.00\n",
      "Episode 38 Score 200.00\n",
      "Episode 39 Score 200.00\n",
      "Episode 40 Score 200.00\n",
      "Episode 41 Score 200.00\n",
      "Episode 42 Score 200.00\n",
      "Episode 43 Score 200.00\n",
      "Episode 44 Score 200.00\n",
      "Episode 45 Score 200.00\n",
      "Episode 46 Score 200.00\n",
      "Episode 47 Score 200.00\n",
      "Episode 48 Score 200.00\n",
      "Episode 49 Score 200.00\n",
      "Episode 50 Score 200.00\n",
      "Episode 51 Score 200.00\n",
      "Episode 52 Score 200.00\n",
      "Episode 53 Score 200.00\n",
      "Episode 54 Score 200.00\n",
      "Episode 55 Score 200.00\n",
      "Episode 56 Score 200.00\n",
      "Episode 57 Score 200.00\n",
      "Episode 58 Score 200.00\n",
      "Episode 59 Score 200.00\n",
      "Episode 60 Score 200.00\n",
      "Episode 61 Score 200.00\n",
      "Episode 62 Score 200.00\n",
      "Episode 63 Score 200.00\n",
      "Episode 64 Score 200.00\n",
      "Episode 65 Score 200.00\n",
      "Episode 66 Score 200.00\n",
      "Episode 67 Score 200.00\n",
      "Episode 68 Score 200.00\n",
      "Episode 69 Score 200.00\n",
      "Episode 70 Score 200.00\n",
      "Episode 71 Score 200.00\n",
      "Episode 72 Score 200.00\n",
      "Episode 73 Score 200.00\n",
      "Episode 74 Score 200.00\n",
      "Episode 75 Score 200.00\n",
      "Episode 76 Score 200.00\n",
      "Episode 77 Score 200.00\n",
      "Episode 78 Score 200.00\n",
      "Episode 79 Score 200.00\n",
      "Episode 80 Score 200.00\n",
      "Episode 81 Score 200.00\n",
      "Episode 82 Score 200.00\n",
      "Episode 83 Score 200.00\n",
      "Episode 84 Score 200.00\n",
      "Episode 85 Score 200.00\n",
      "Episode 86 Score 200.00\n",
      "Episode 87 Score 200.00\n",
      "Episode 88 Score 200.00\n",
      "Episode 89 Score 200.00\n",
      "Episode 90 Score 200.00\n",
      "Episode 91 Score 200.00\n",
      "Episode 92 Score 200.00\n",
      "Episode 93 Score 200.00\n",
      "Episode 94 Score 200.00\n",
      "Episode 95 Score 200.00\n",
      "Episode 96 Score 200.00\n",
      "Episode 97 Score 200.00\n",
      "Episode 98 Score 200.00\n",
      "Episode 99 Score 200.00\n",
      "Episode 100 Score 200.00\n",
      "Mean of 100 episodes = 200.0\n",
      "2019-02-08 10:48:11.737848\n"
     ]
    }
   ],
   "source": [
    "scores=[]\n",
    "for i in range(100): # 10 episodes\n",
    "    state = env.reset()                                   # reset the environment\n",
    "    score = 0                                             # initialize the score\n",
    "    while True:\n",
    "        action = agent.act(state)                         # select an action\n",
    "        next_state, reward, done, info = env.step(action) # send the action to the environment\n",
    "        score += reward                                   # update the score\n",
    "        state = next_state                                # roll over the state to next time step\n",
    "        if done:                                          # exit loop if episode finished\n",
    "            break\n",
    "    scores.append(score)\n",
    "    print(\"Episode {:2d} Score {:5.2f}\".format(i+1,score))\n",
    "print('Mean of {} episodes = {}'.format(i+1,np.mean(scores)))\n",
    "print(datetime.now())\n",
    "env.close()"
   ]
  },
  {
   "cell_type": "code",
   "execution_count": 18,
   "metadata": {},
   "outputs": [],
   "source": [
    "env.close()"
   ]
  },
  {
   "cell_type": "markdown",
   "metadata": {},
   "source": [
    "## _That's all Folks !_"
   ]
  },
  {
   "cell_type": "code",
   "execution_count": null,
   "metadata": {},
   "outputs": [],
   "source": []
  }
 ],
 "metadata": {
  "kernelspec": {
   "display_name": "Python 3",
   "language": "python",
   "name": "python3"
  },
  "language_info": {
   "codemirror_mode": {
    "name": "ipython",
    "version": 3
   },
   "file_extension": ".py",
   "mimetype": "text/x-python",
   "name": "python",
   "nbconvert_exporter": "python",
   "pygments_lexer": "ipython3",
   "version": "3.7.1"
  }
 },
 "nbformat": 4,
 "nbformat_minor": 2
}
