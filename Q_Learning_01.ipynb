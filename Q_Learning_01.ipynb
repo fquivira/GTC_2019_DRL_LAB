{
 "cells": [
  {
   "cell_type": "markdown",
   "metadata": {},
   "source": [
    "# Hands On #4 - Balancing Cart Pole w/Q-learning\n",
    "\n",
    "## Goal:\n",
    "* Introduce the CartPole Environment\n",
    "    * More complex, Continuous\n",
    "* Implement Q-Learning for digitized CartPole\n",
    "    * Later we will use function approx and remove the requirement for digitization\n",
    "\n",
    "## Steps:\n",
    "1. Get familiar with Cartpole environment\n",
    "    * np.linspace() and np.digitize() for state space aggregation\n",
    "2. Program Q Learning - _4 To Dos_\n",
    "3. Track & Plot Metrics to solve Cart Pole"
   ]
  },
  {
   "cell_type": "markdown",
   "metadata": {},
   "source": [
    "Reference : \n",
    "* Based on Udacity github https://github.com/udacity/deep-reinforcement-learning/tree/master/monte-carlo plus\n",
    "* My solution for the DQN https://github.com/xsankar/DQN_Navigation/blob/master/Navigation-v2.ipynb\n",
    "* Kaggle https://www.kaggle.com/sandovaledwin/q-learning-algorithm-for-solving-frozenlake-game/notebook\n",
    "* Phil Tabor's RL in Motion github https://github.com/philtabor/Reinforcement-Learning-In-Motion/tree/master/Unit-7-The-Cartpole"
   ]
  },
  {
   "cell_type": "markdown",
   "metadata": {},
   "source": [
    "### 1. Install the required packages\n",
    "\n",
    "* No esoteric requirements\n",
    "* You can run them without docker\n",
    "* pip install -r requirements.txt\n",
    "* Requirements\n",
    " * python 3.6, pytorch, openAI gym, numpy, matplotlib\n",
    " * anaconda is easier but not needed\n",
    " * Miniconda works fine"
   ]
  },
  {
   "cell_type": "markdown",
   "metadata": {},
   "source": [
    "### 2. Define imports\n",
    "\n",
    "python 3, numpy, matplotlib, torch, gym"
   ]
  },
  {
   "cell_type": "code",
   "execution_count": 1,
   "metadata": {},
   "outputs": [],
   "source": [
    "# General imports\n",
    "import gym\n",
    "import PIL # for in-line display of certain environments\n",
    "\n",
    "import sys\n",
    "import numpy as np\n",
    "import random\n",
    "from collections import namedtuple, deque, defaultdict\n",
    "\n",
    "import matplotlib.pyplot as plt\n",
    "%matplotlib inline\n",
    "\n",
    "# torch imports\n",
    "import torch\n",
    "import torch.nn as nn\n",
    "import torch.nn.functional as F\n",
    "import torch.optim as optim"
   ]
  },
  {
   "cell_type": "markdown",
   "metadata": {},
   "source": [
    "### 2.1. Global Constants and other variables"
   ]
  },
  {
   "cell_type": "code",
   "execution_count": 2,
   "metadata": {},
   "outputs": [],
   "source": [
    "# Constants Definitions\n",
    "BUFFER_SIZE = int(1e5)  # replay buffer size\n",
    "BATCH_SIZE = 64         # minibatch size\n",
    "GAMMA = 0.99            # discount factor\n",
    "TAU = 1e-3              # for soft update of target parameters\n",
    "LR = 5e-4               # learning rate \n",
    "UPDATE_EVERY = 4        # how often to update the network\n",
    "# Number of neurons in the layers of the Q Network\n",
    "FC1_UNITS = 16\n",
    "FC2_UNITS = 8\n",
    "FC3_UNITS = 4\n",
    "# Store models flag. Store during calibration runs and do not store during hyperparameter search\n",
    "STORE_MODELS = False"
   ]
  },
  {
   "cell_type": "markdown",
   "metadata": {},
   "source": [
    "### Work Area"
   ]
  },
  {
   "cell_type": "code",
   "execution_count": 3,
   "metadata": {},
   "outputs": [
    {
     "name": "stdout",
     "output_type": "stream",
     "text": [
      "0.20943951023931956\n",
      "-0.20943951023931956\n"
     ]
    }
   ],
   "source": [
    "# Work area to quickly test utility functions\n",
    "import math\n",
    "import time\n",
    "from datetime import datetime, timedelta\n",
    "'''\n",
    "start_time = time.time()\n",
    "time.sleep(10)\n",
    "print('Elapsed : {}'.format(timedelta(seconds=time.time() - start_time)))\n",
    "'''\n",
    "print(math.radians(12))\n",
    "print(math.radians(-12))"
   ]
  },
  {
   "cell_type": "markdown",
   "metadata": {},
   "source": [
    "### 3.0 Create instance & Explore"
   ]
  },
  {
   "cell_type": "code",
   "execution_count": 4,
   "metadata": {},
   "outputs": [
    {
     "name": "stderr",
     "output_type": "stream",
     "text": [
      "/miniconda3/lib/python3.7/site-packages/gym/envs/registration.py:14: PkgResourcesDeprecationWarning: Parameters to load are deprecated.  Call .resolve and .require separately.\n",
      "  result = entry_point.load(False)\n"
     ]
    },
    {
     "data": {
      "text/plain": [
       "array([ 0.01866453, -0.00144507, -0.00074703,  0.00939201])"
      ]
     },
     "execution_count": 4,
     "metadata": {},
     "output_type": "execute_result"
    }
   ],
   "source": [
    "import gym, PIL\n",
    "env = gym.make('CartPole-v0')\n",
    "env.reset()\n",
    "# array = env.reset()\n",
    "# ** render doesn't work reliably on a server. Uncomment when running ** locally **\n",
    "# env.render()\n",
    "# PIL.Image.fromarray(env.render(mode='rgb_array'))"
   ]
  },
  {
   "cell_type": "markdown",
   "metadata": {},
   "source": [
    "### This what it will look like\n",
    "### We don't need the render(). We run it on headless mode and inspect the results\n",
    "<img src=\"CartPole_Render.jpg\">"
   ]
  },
  {
   "cell_type": "markdown",
   "metadata": {},
   "source": [
    "### 3.1 Examine the State and Action Spaces\n",
    "\n",
    "* The state space is continuous, with an observation space of 4 \n",
    "    * {x,$\\dot{x}$,$\\theta$, theta_dot}\n",
    "        * Cart Position,  Cart Velocity, Pole Angle, Pole Velocity at tip\n",
    "        * The angle, probably, is in radians\n",
    "\n",
    "The action space, on the contrary is simple viz. 0 = Left, 1 = Right"
   ]
  },
  {
   "cell_type": "code",
   "execution_count": 5,
   "metadata": {},
   "outputs": [
    {
     "name": "stdout",
     "output_type": "stream",
     "text": [
      "Box(4,)\n",
      "Discrete(2)\n",
      "[0, 1]\n",
      "[ 0 = Left, 1 = Right ]\n"
     ]
    }
   ],
   "source": [
    "print(env.observation_space)\n",
    "print(env.action_space)\n",
    "act_space = [i for i in range(0,env.action_space.n)]\n",
    "print(act_space)\n",
    "# env.unwrapped.get_action_meanings() # AttributeError: 'FrozenLakeEnv' object has no attribute 'get_action_meanings'\n",
    "print('[ 0 = Left, 1 = Right ]')"
   ]
  },
  {
   "cell_type": "code",
   "execution_count": 6,
   "metadata": {},
   "outputs": [
    {
     "name": "stdout",
     "output_type": "stream",
     "text": [
      "['__class__', '__delattr__', '__dict__', '__dir__', '__doc__', '__eq__', '__format__', '__ge__', '__getattribute__', '__gt__', '__hash__', '__init__', '__init_subclass__', '__le__', '__lt__', '__module__', '__ne__', '__new__', '__reduce__', '__reduce_ex__', '__repr__', '__setattr__', '__sizeof__', '__str__', '__subclasshook__', '__weakref__', '_elapsed_seconds', '_elapsed_steps', '_episode_started_at', '_max_episode_seconds', '_max_episode_steps', '_past_limit', 'action_space', 'class_name', 'close', 'compute_reward', 'env', 'metadata', 'observation_space', 'render', 'reset', 'reward_range', 'seed', 'spec', 'step', 'unwrapped']\n",
      "['__class__', '__delattr__', '__dict__', '__dir__', '__doc__', '__eq__', '__format__', '__ge__', '__getattribute__', '__gt__', '__hash__', '__init__', '__init_subclass__', '__le__', '__lt__', '__module__', '__ne__', '__new__', '__reduce__', '__reduce_ex__', '__repr__', '__setattr__', '__sizeof__', '__str__', '__subclasshook__', '__weakref__', 'action_space', 'close', 'force_mag', 'gravity', 'kinematics_integrator', 'length', 'masscart', 'masspole', 'metadata', 'np_random', 'observation_space', 'polemass_length', 'render', 'reset', 'reward_range', 'seed', 'spec', 'state', 'step', 'steps_beyond_done', 'tau', 'theta_threshold_radians', 'total_mass', 'unwrapped', 'viewer', 'x_threshold']\n",
      "States =  Box(4,)\n",
      "Actions =  Discrete(2)\n"
     ]
    }
   ],
   "source": [
    "print(dir(env))\n",
    "print(dir(env.unwrapped))\n",
    "print('States = ',env.unwrapped.observation_space)\n",
    "print('Actions = ',env.unwrapped.action_space)"
   ]
  },
  {
   "cell_type": "code",
   "execution_count": 7,
   "metadata": {},
   "outputs": [],
   "source": [
    "num_states = env.observation_space.shape[0]\n",
    "num_actions = env.action_space.n"
   ]
  },
  {
   "cell_type": "markdown",
   "metadata": {},
   "source": [
    "### 4. Test the environment with Random Action"
   ]
  },
  {
   "cell_type": "markdown",
   "metadata": {},
   "source": [
    "### Hands-On To Do - #1 to #3"
   ]
  },
  {
   "cell_type": "code",
   "execution_count": null,
   "metadata": {},
   "outputs": [],
   "source": [
    "for i_episode in range(3):\n",
    "    # To Do\n",
    "    # 1. Get initial State\n",
    "    # state = <fillin and uncomment>\n",
    "    tot_reward = 0\n",
    "    steps = 0\n",
    "    while True:\n",
    "        # To Do\n",
    "        # 2. Get random action - sampling env.action_space \n",
    "        # action = <fillin and uncomment>\n",
    "        # 3. take a step in the environment and get state, reward, done and info\n",
    "        # <fillin and uncomment> = <fillin and uncomment>\n",
    "        print('[',state,']','->', action,' : [',next_state,']', 'R=',reward)\n",
    "        # env.render()\n",
    "        tot_reward += reward\n",
    "        steps += 1\n",
    "        if done:\n",
    "            print('Episode {:d} finished after {:d} steps with a Total Reward = {:.0f}'.format(i_episode+1,steps, tot_reward))\n",
    "            break\n",
    "        else:\n",
    "            state = next_state\n",
    "# Pole angle +/-12 degrees, Cart Pos +/- 2.4 or 200 steps\n",
    "# Cart Pos, Velocity, Pole Angle, Velocity\n",
    "# 12 degrees = .2094 radians"
   ]
  },
  {
   "cell_type": "markdown",
   "metadata": {},
   "source": [
    "## Q Learning\n",
    "### Let us implement the Basic Q-Learning Algorithm\n",
    "<img src='Qlearning_Alg.png'>"
   ]
  },
  {
   "cell_type": "markdown",
   "metadata": {},
   "source": [
    "### Step 1 : Define policies"
   ]
  },
  {
   "cell_type": "markdown",
   "metadata": {},
   "source": [
    "## $\\epsilon$-Greedy\n",
    "\n",
    "<img src=\"e_greedy.png\" >"
   ]
  },
  {
   "cell_type": "code",
   "execution_count": 14,
   "metadata": {},
   "outputs": [],
   "source": [
    "def choose_e_greedy_action(env,Q,state,epsilon,nA):\n",
    "    action = np.random.choice(np.arange(nA), p=get_probs(Q[state], epsilon, nA)) if state in Q else env.action_space.sample()\n",
    "    return action\n",
    "\n",
    "def get_probs(Q_s, epsilon, nA):\n",
    "    \"\"\" obtains the action probabilities corresponding to epsilon-greedy policy \"\"\"\n",
    "    policy_s = np.ones(nA) * epsilon / nA\n",
    "    best_a = np.argmax(Q_s)\n",
    "    policy_s[best_a] = 1 - epsilon + (epsilon / nA)\n",
    "    return policy_s"
   ]
  },
  {
   "cell_type": "markdown",
   "metadata": {},
   "source": [
    "### We need to convert the continuous state space to discrete"
   ]
  },
  {
   "cell_type": "code",
   "execution_count": 15,
   "metadata": {},
   "outputs": [],
   "source": [
    "#discretize the spaces\n",
    "poleThetaSpace = np.linspace(-0.20943951, 0.20943951, 10)\n",
    "poleThetaVelSpace = np.linspace(-4, 4, 10)\n",
    "cartPosSpace = np.linspace(-2.4, 2.4, 10)\n",
    "cartVelSpace = np.linspace(-4, 4, 10)\n",
    "\n",
    "def getState(observation):\n",
    "    cartX, cartXdot, cartTheta, cartThetadot = observation\n",
    "    cartX = int(np.digitize(cartX, cartPosSpace))\n",
    "    cartXdot = int(np.digitize(cartXdot, cartVelSpace))\n",
    "    cartTheta = int(np.digitize(cartTheta, poleThetaSpace))\n",
    "    cartThetadot = int(np.digitize(cartThetadot, poleThetaVelSpace))\n",
    "\n",
    "    return (cartX, cartXdot, cartTheta, cartThetadot)"
   ]
  },
  {
   "cell_type": "markdown",
   "metadata": {},
   "source": [
    "### Hands-On To Do - #4"
   ]
  },
  {
   "cell_type": "code",
   "execution_count": 16,
   "metadata": {},
   "outputs": [],
   "source": [
    "# uses global variavle env\n",
    "def q_learning(n_episodes=2000, max_t=1000, \n",
    "               epsilon_start=1.0, epsilon_min=0.01, epsilon_decay=0.9995, # 0.995 gets to min by 1000 episodes\n",
    "               alpha=0.01, gamma=1.0):\n",
    "    \"\"\"Deep Q-Learning.\n",
    "    \n",
    "    Params\n",
    "    ======\n",
    "        n_episodes (int): maximum number of training episodes\n",
    "        max_t (int): maximum number of timesteps per episode\n",
    "        epsilon_start (float): starting value of epsilon, for epsilon-greedy action selection\n",
    "        epsilon_end (float): minimum value of epsilon\n",
    "        epsilon_decay (float): multiplicative factor (per episode) for decreasing epsilon\n",
    "        alpha = step-size parameter\n",
    "        gamma = discount rate\n",
    "    \"\"\"\n",
    "    # initialize empty dictionary of arrays\n",
    "    Q = defaultdict(lambda: np.zeros(num_actions))\n",
    "    scores = []                        # list containing scores from each episode\n",
    "    scores_window = deque(maxlen=100)  # last 100 scores\n",
    "    epsilon = epsilon_start            # initialize epsilon\n",
    "    has_seen_13 = False\n",
    "    max_score = 0\n",
    "    # loop over episodes\n",
    "    for i_episode in range(1, n_episodes+1):\n",
    "        score = 0\n",
    "        max_steps = 0\n",
    "        # monitor progress\n",
    "        if i_episode % 100 == 0:\n",
    "            print(\"\\rEpisode {}/{}\".format(i_episode, n_episodes), end=\"\")\n",
    "            sys.stdout.flush()\n",
    "        \n",
    "        s_t = env.reset()\n",
    "        a_t = choose_e_greedy_action(env,Q,getState(s_t),epsilon,num_actions)\n",
    "        t = 0\n",
    "        while True:\n",
    "            s_t_d = getState(s_t)\n",
    "            # state, reward, done, info = env.step(action)\n",
    "            s_t_1, reward, done, prob = env.step(a_t)\n",
    "            # print(state,reward,done, prob)\n",
    "            s_t_1_d = getState(s_t_1) # Digitize state\n",
    "            a_t_1 = choose_e_greedy_action(env,Q,s_t_1_d,epsilon,num_actions)\n",
    "            best_a = np.argmax(Q[s_t_1_d])\n",
    "            # *** To Do\n",
    "            # 4. Update the appripriate Q value\n",
    "            # Q[s_t_d][a_t] = <fillin and uncomment>\n",
    "            a_t = a_t_1\n",
    "            s_t = s_t_1\n",
    "            score += reward\n",
    "            max_steps += 1\n",
    "            if done:\n",
    "                break\n",
    "        scores_window.append(score)       # save most recent score\n",
    "        scores.append(score)              # save most recent score\n",
    "        epsilon = max(epsilon*epsilon_decay, epsilon_min) # decrease epsilon\n",
    "        print('\\rEpisode : {}\\tAverage Score : {:5.2f}\\tMax_steps : {}\\teps : {:5.3f}\\tMax.Score : {:5.3f}'.\\\n",
    "              format(i_episode, np.mean(scores_window),max_steps,epsilon,max_score), end=\"\")\n",
    "        if i_episode % 100 == 0:\n",
    "            print('\\rEpisode : {}\\tAverage Score : {:5.2f}\\tMax_steps : {}\\teps : {:5.3f}\\tMax.Score : {:5.3f}'.\\\n",
    "                  format(i_episode, np.mean(scores_window),max_steps,epsilon,max_score))\n",
    "        if (np.mean(scores_window)>=195.0) and (not has_seen_13):\n",
    "            print('\\nEnvironment solved in {:d} episodes!\\tAverage Score: {:5.2f}'.\\\n",
    "                  format(i_episode-100, np.mean(scores_window)))\n",
    "            # torch.save(agent.qnetwork_local.state_dict(), 'checkpoint.pth')\n",
    "            has_seen_13 = True\n",
    "        if score > max_score:\n",
    "            max_score = score\n",
    "    return scores, Q"
   ]
  },
  {
   "cell_type": "code",
   "execution_count": 17,
   "metadata": {
    "scrolled": false
   },
   "outputs": [
    {
     "name": "stdout",
     "output_type": "stream",
     "text": [
      "Episode : 100\tAverage Score : 21.62\tMax_steps : 15\teps : 0.951\tMax.Score : 61.000\n",
      "Episode : 200\tAverage Score : 23.32\tMax_steps : 8\teps : 0.905\tMax.Score : 66.0000\n",
      "Episode : 300\tAverage Score : 22.94\tMax_steps : 36\teps : 0.861\tMax.Score : 91.000\n",
      "Episode : 400\tAverage Score : 21.04\tMax_steps : 25\teps : 0.819\tMax.Score : 91.000\n",
      "Episode : 500\tAverage Score : 20.69\tMax_steps : 23\teps : 0.779\tMax.Score : 91.000\n",
      "Episode : 600\tAverage Score : 19.66\tMax_steps : 26\teps : 0.741\tMax.Score : 91.000\n",
      "Episode : 700\tAverage Score : 18.60\tMax_steps : 23\teps : 0.705\tMax.Score : 91.000\n",
      "Episode : 800\tAverage Score : 16.70\tMax_steps : 25\teps : 0.670\tMax.Score : 91.000\n",
      "Episode : 900\tAverage Score : 16.58\tMax_steps : 27\teps : 0.638\tMax.Score : 91.000\n",
      "Episode : 1000\tAverage Score : 14.83\tMax_steps : 13\teps : 0.606\tMax.Score : 91.000\n",
      "Episode : 1100\tAverage Score : 15.86\tMax_steps : 10\teps : 0.577\tMax.Score : 91.000\n",
      "Episode : 1200\tAverage Score : 14.74\tMax_steps : 12\teps : 0.549\tMax.Score : 91.000\n",
      "Episode : 1300\tAverage Score : 14.22\tMax_steps : 10\teps : 0.522\tMax.Score : 91.000\n",
      "Episode : 1400\tAverage Score : 13.67\tMax_steps : 12\teps : 0.496\tMax.Score : 91.000\n",
      "Episode : 1500\tAverage Score : 13.96\tMax_steps : 18\teps : 0.472\tMax.Score : 91.000\n",
      "Episode : 1600\tAverage Score : 13.00\tMax_steps : 11\teps : 0.449\tMax.Score : 91.000\n",
      "Episode : 1700\tAverage Score : 13.28\tMax_steps : 9\teps : 0.427\tMax.Score : 91.0000\n",
      "Episode : 1800\tAverage Score : 12.37\tMax_steps : 10\teps : 0.406\tMax.Score : 91.000\n",
      "Episode : 1900\tAverage Score : 12.35\tMax_steps : 12\teps : 0.387\tMax.Score : 91.000\n",
      "Episode : 2000\tAverage Score : 12.31\tMax_steps : 13\teps : 0.368\tMax.Score : 91.000\n",
      "Episode : 2100\tAverage Score : 12.28\tMax_steps : 15\teps : 0.350\tMax.Score : 91.000\n",
      "Episode : 2200\tAverage Score : 11.44\tMax_steps : 8\teps : 0.333\tMax.Score : 91.0000\n",
      "Episode : 2300\tAverage Score : 11.59\tMax_steps : 12\teps : 0.317\tMax.Score : 91.000\n",
      "Episode : 2400\tAverage Score : 11.60\tMax_steps : 10\teps : 0.301\tMax.Score : 91.000\n",
      "Episode : 2500\tAverage Score : 11.23\tMax_steps : 12\teps : 0.286\tMax.Score : 91.000\n",
      "Episode : 2600\tAverage Score : 11.05\tMax_steps : 10\teps : 0.272\tMax.Score : 91.000\n",
      "Episode : 2700\tAverage Score : 10.54\tMax_steps : 10\teps : 0.259\tMax.Score : 91.000\n",
      "Episode : 2800\tAverage Score : 11.02\tMax_steps : 11\teps : 0.247\tMax.Score : 91.000\n",
      "Episode : 2900\tAverage Score : 10.89\tMax_steps : 10\teps : 0.234\tMax.Score : 91.000\n",
      "Episode : 3000\tAverage Score : 10.60\tMax_steps : 10\teps : 0.223\tMax.Score : 91.000\n",
      "Episode : 3100\tAverage Score : 10.52\tMax_steps : 10\teps : 0.212\tMax.Score : 91.000\n",
      "Episode : 3200\tAverage Score : 10.54\tMax_steps : 10\teps : 0.202\tMax.Score : 91.000\n",
      "Episode : 3300\tAverage Score : 10.55\tMax_steps : 9\teps : 0.192\tMax.Score : 91.0000\n",
      "Episode : 3400\tAverage Score : 10.52\tMax_steps : 8\teps : 0.183\tMax.Score : 91.0000\n",
      "Episode : 3500\tAverage Score : 10.58\tMax_steps : 10\teps : 0.174\tMax.Score : 91.000\n",
      "Episode : 3600\tAverage Score : 10.41\tMax_steps : 11\teps : 0.165\tMax.Score : 91.000\n",
      "Episode : 3700\tAverage Score : 10.39\tMax_steps : 10\teps : 0.157\tMax.Score : 91.000\n",
      "Episode : 3800\tAverage Score : 10.05\tMax_steps : 12\teps : 0.149\tMax.Score : 91.000\n",
      "Episode : 3900\tAverage Score : 10.10\tMax_steps : 12\teps : 0.142\tMax.Score : 91.000\n",
      "Episode : 4000\tAverage Score : 10.28\tMax_steps : 12\teps : 0.135\tMax.Score : 91.000\n",
      "Episode : 4100\tAverage Score : 10.31\tMax_steps : 10\teps : 0.129\tMax.Score : 91.000\n",
      "Episode : 4200\tAverage Score : 10.02\tMax_steps : 9\teps : 0.122\tMax.Score : 91.0000\n",
      "Episode : 4300\tAverage Score : 10.07\tMax_steps : 9\teps : 0.116\tMax.Score : 91.0000\n",
      "Episode : 4400\tAverage Score : 10.35\tMax_steps : 11\teps : 0.111\tMax.Score : 91.000\n",
      "Episode : 4500\tAverage Score :  9.85\tMax_steps : 10\teps : 0.105\tMax.Score : 91.000\n",
      "Episode : 4600\tAverage Score :  9.90\tMax_steps : 11\teps : 0.100\tMax.Score : 91.000\n",
      "Episode : 4700\tAverage Score : 10.03\tMax_steps : 9\teps : 0.095\tMax.Score : 91.0000\n",
      "Episode : 4800\tAverage Score :  9.69\tMax_steps : 9\teps : 0.091\tMax.Score : 91.0000\n",
      "Episode : 4900\tAverage Score :  9.85\tMax_steps : 9\teps : 0.086\tMax.Score : 91.0000\n",
      "Episode : 5000\tAverage Score :  9.85\tMax_steps : 8\teps : 0.082\tMax.Score : 91.0000\n",
      "Elapsed : 0:00:12.215245\n",
      "2019-02-08 10:57:20.020035\n"
     ]
    },
    {
     "data": {
      "image/png": "[encoded data removed]",
      "text/plain": [
       "<Figure size 432x288 with 1 Axes>"
      ]
     },
     "metadata": {
      "needs_background": "light"
     },
     "output_type": "display_data"
    },
    {
     "name": "stdout",
     "output_type": "stream",
     "text": [
      "Max Score 91.000000 at 284\n",
      "Percentile [25,50,75] : [10. 11. 14.]\n",
      "Variance : 40.459\n"
     ]
    }
   ],
   "source": [
    "# obtain the estimated optimal policy and corresponding action-value function\n",
    "start_time = time.time()\n",
    "scores, QVal = q_learning(n_episodes=5000)\n",
    "# env.close() # Close the environment\n",
    "print('Elapsed : {}'.format(timedelta(seconds=time.time() - start_time)))\n",
    "print(datetime.now())\n",
    "# plot the scores\n",
    "fig = plt.figure()\n",
    "ax = fig.add_subplot(111)\n",
    "plt.plot(np.arange(len(scores)), scores)\n",
    "plt.ylabel('Score')\n",
    "plt.xlabel('Episode #')\n",
    "plt.show()\n",
    "print('Max Score {:2f} at {}'.format(np.max(scores), np.argmax(scores)))\n",
    "print('Percentile [25,50,75] : {}'.format(np.percentile(scores,[25,50,75])))\n",
    "print('Variance : {:.3f}'.format(np.var(scores)))"
   ]
  },
  {
   "cell_type": "code",
   "execution_count": null,
   "metadata": {
    "scrolled": false
   },
   "outputs": [],
   "source": [
    "for k,v in QVal.items():\n",
    "    print('k={},v={}'.format(k,v))"
   ]
  },
  {
   "cell_type": "code",
   "execution_count": 19,
   "metadata": {},
   "outputs": [],
   "source": [
    "# Construct the estimated optimal policy\n",
    "QPolicy={}\n",
    "for k,v in QVal.items():\n",
    "    QPolicy[k] = [0] * num_actions\n",
    "    QPolicy[k][np.argmax(QVal[k])] = 1"
   ]
  },
  {
   "cell_type": "markdown",
   "metadata": {},
   "source": [
    "### Points to Ponder\n",
    "1. Like our earlier lab we can decay $\\epsilon$ in different ways\n",
    "2. Even after 30,000 episodes it doesn't solve the environment.\n",
    "    * There is opportunity for tweaking"
   ]
  },
  {
   "cell_type": "markdown",
   "metadata": {},
   "source": [
    "## Test our policy"
   ]
  },
  {
   "cell_type": "code",
   "execution_count": 21,
   "metadata": {},
   "outputs": [
    {
     "name": "stdout",
     "output_type": "stream",
     "text": [
      "Episode 1 finished after 10 steps with a Total Reward = 10\n",
      "Episode 2 finished after 9 steps with a Total Reward = 9\n"
     ]
    }
   ],
   "source": [
    "for i_episode in range(2): \n",
    "    state = env.reset()\n",
    "    tot_reward = 0\n",
    "    steps = 0\n",
    "    while True:\n",
    "        if getState(state) in QPolicy:\n",
    "            probs = QPolicy[getState(state)]\n",
    "        else:\n",
    "            print(\".\")\n",
    "            probs = [1.0/num_actions] * num_actions\n",
    "        action = np.random.choice(np.arange(num_actions), p=probs)\n",
    "        next_state, reward, done, info = env.step(action)\n",
    "        # print('[',state,']',' -> ', action,' = [',next_state,']', reward)\n",
    "        tot_reward += reward\n",
    "        steps += 1\n",
    "        if done:\n",
    "            print('Episode {:d} finished after {:d} steps with a Total Reward = {:.0f}'.\n",
    "                  format(i_episode+1,steps, tot_reward))\n",
    "            break\n",
    "        else:\n",
    "            state = next_state"
   ]
  },
  {
   "cell_type": "code",
   "execution_count": 18,
   "metadata": {},
   "outputs": [],
   "source": [
    "env.close()"
   ]
  },
  {
   "cell_type": "markdown",
   "metadata": {},
   "source": [
    "## _That's all Folks !_"
   ]
  },
  {
   "cell_type": "code",
   "execution_count": null,
   "metadata": {},
   "outputs": [],
   "source": []
  }
 ],
 "metadata": {
  "kernelspec": {
   "display_name": "Python 3",
   "language": "python",
   "name": "python3"
  },
  "language_info": {
   "codemirror_mode": {
    "name": "ipython",
    "version": 3
   },
   "file_extension": ".py",
   "mimetype": "text/x-python",
   "name": "python",
   "nbconvert_exporter": "python",
   "pygments_lexer": "ipython3",
   "version": "3.7.1"
  }
 },
 "nbformat": 4,
 "nbformat_minor": 2
}
