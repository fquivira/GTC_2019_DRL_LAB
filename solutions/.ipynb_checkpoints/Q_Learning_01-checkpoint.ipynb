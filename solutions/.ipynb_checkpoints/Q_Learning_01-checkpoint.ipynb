{
 "cells": [
  {
   "cell_type": "markdown",
   "metadata": {},
   "source": [
    "# Hands On #4 - Balancing Cart Pole w/Q-learning\n",
    "\n",
    "## Goal:\n",
    "* Introduce the CartPole Environment\n",
    "    * More complex, Continuous\n",
    "* Implement Q-Learning for digitized CartPole\n",
    "    * Later we will use function approx and remove the requirement for digitization\n",
    "\n",
    "## Steps:\n",
    "1. Get familiar with Cartpole environment\n",
    "    * np.linspace() and np.digitize() for state space aggregation\n",
    "2. Program Q Learning\n",
    "3. Track & Plot Metrics to solve Cart Pole"
   ]
  },
  {
   "cell_type": "markdown",
   "metadata": {},
   "source": [
    "Reference : \n",
    "* Based on Udacity github https://github.com/udacity/deep-reinforcement-learning/tree/master/monte-carlo plus\n",
    "* My solution for the DQN https://github.com/xsankar/DQN_Navigation/blob/master/Navigation-v2.ipynb\n",
    "* Kaggle https://www.kaggle.com/sandovaledwin/q-learning-algorithm-for-solving-frozenlake-game/notebook\n",
    "* Phil Tabor's RL in Motion github https://github.com/philtabor/Reinforcement-Learning-In-Motion/tree/master/Unit-7-The-Cartpole"
   ]
  },
  {
   "cell_type": "markdown",
   "metadata": {},
   "source": [
    "### 1. Install the required packages\n",
    "\n",
    "* No esoteric requirements\n",
    "* You can run them without docker\n",
    "* pip install -r requirements.txt\n",
    "* Requirements\n",
    " * python 3.6, pytorch, openAI gym, numpy, matplotlib\n",
    " * anaconda is easier but not needed\n",
    " * Miniconda works fine"
   ]
  },
  {
   "cell_type": "markdown",
   "metadata": {},
   "source": [
    "### 2. Define imports\n",
    "\n",
    "python 3, numpy, matplotlib, torch, gym"
   ]
  },
  {
   "cell_type": "code",
   "execution_count": 9,
   "metadata": {},
   "outputs": [],
   "source": [
    "# General imports\n",
    "import gym\n",
    "import PIL # for in-line display of certain environments\n",
    "\n",
    "import sys\n",
    "import numpy as np\n",
    "import random\n",
    "from collections import namedtuple, deque, defaultdict\n",
    "\n",
    "import matplotlib.pyplot as plt\n",
    "%matplotlib inline\n",
    "\n",
    "# torch imports\n",
    "import torch\n",
    "import torch.nn as nn\n",
    "import torch.nn.functional as F\n",
    "import torch.optim as optim"
   ]
  },
  {
   "cell_type": "markdown",
   "metadata": {},
   "source": [
    "### 2.1. Global Constants and other variables"
   ]
  },
  {
   "cell_type": "code",
   "execution_count": 10,
   "metadata": {},
   "outputs": [],
   "source": [
    "# Constants Definitions\n",
    "BUFFER_SIZE = int(1e5)  # replay buffer size\n",
    "BATCH_SIZE = 64         # minibatch size\n",
    "GAMMA = 0.99            # discount factor\n",
    "TAU = 1e-3              # for soft update of target parameters\n",
    "LR = 5e-4               # learning rate \n",
    "UPDATE_EVERY = 4        # how often to update the network\n",
    "# Number of neurons in the layers of the Q Network\n",
    "FC1_UNITS = 16\n",
    "FC2_UNITS = 8\n",
    "FC3_UNITS = 4\n",
    "# Store models flag. Store during calibration runs and do not store during hyperparameter search\n",
    "STORE_MODELS = False"
   ]
  },
  {
   "cell_type": "markdown",
   "metadata": {},
   "source": [
    "### Work Area"
   ]
  },
  {
   "cell_type": "code",
   "execution_count": 11,
   "metadata": {},
   "outputs": [
    {
     "name": "stdout",
     "output_type": "stream",
     "text": [
      "0.20943951023931956\n",
      "-0.20943951023931956\n"
     ]
    }
   ],
   "source": [
    "# Work area to quickly test utility functions\n",
    "import math\n",
    "import time\n",
    "from datetime import datetime, timedelta\n",
    "'''\n",
    "start_time = time.time()\n",
    "time.sleep(10)\n",
    "print('Elapsed : {}'.format(timedelta(seconds=time.time() - start_time)))\n",
    "'''\n",
    "print(math.radians(12))\n",
    "print(math.radians(-12))"
   ]
  },
  {
   "cell_type": "markdown",
   "metadata": {},
   "source": [
    "### 3.0 Create instance & Explore"
   ]
  },
  {
   "cell_type": "code",
   "execution_count": 12,
   "metadata": {},
   "outputs": [
    {
     "data": {
      "text/plain": [
       "array([0.02948199, 0.02003764, 0.04221512, 0.02956406])"
      ]
     },
     "execution_count": 12,
     "metadata": {},
     "output_type": "execute_result"
    }
   ],
   "source": [
    "import gym, PIL\n",
    "env = gym.make('CartPole-v0')\n",
    "env.reset()\n",
    "# array = env.reset()\n",
    "# ** render doesn't work reliably on a server. Uncomment when running ** locally **\n",
    "# env.render()\n",
    "# PIL.Image.fromarray(env.render(mode='rgb_array'))"
   ]
  },
  {
   "cell_type": "markdown",
   "metadata": {},
   "source": [
    "### This what it will look like\n",
    "### We don't need the render(). We run it on headless mode and inspect the results\n",
    "<img src=\"CartPole_Render.jpg\">"
   ]
  },
  {
   "cell_type": "markdown",
   "metadata": {},
   "source": [
    "### 3.1 Examine the State and Action Spaces\n",
    "\n",
    "* The state space is continuous, with an observation space of 4 \n",
    "    * {x,$\\dot{x}$,$\\theta$, theta_dot}\n",
    "        * Cart Position,  Cart Velocity, Pole Angle, Pole Velocity at tip\n",
    "        * The angle, probably, is in radians\n",
    "\n",
    "The action space, on the contrary is simple viz. 0 = Left, 1 = Right"
   ]
  },
  {
   "cell_type": "code",
   "execution_count": 13,
   "metadata": {},
   "outputs": [
    {
     "name": "stdout",
     "output_type": "stream",
     "text": [
      "Box(4,)\n",
      "Discrete(2)\n",
      "[0, 1]\n",
      "[ 0 = Left, 1 = Right ]\n"
     ]
    }
   ],
   "source": [
    "print(env.observation_space)\n",
    "print(env.action_space)\n",
    "act_space = [i for i in range(0,env.action_space.n)]\n",
    "print(act_space)\n",
    "# env.unwrapped.get_action_meanings() # AttributeError: 'FrozenLakeEnv' object has no attribute 'get_action_meanings'\n",
    "print('[ 0 = Left, 1 = Right ]')"
   ]
  },
  {
   "cell_type": "code",
   "execution_count": 14,
   "metadata": {},
   "outputs": [
    {
     "name": "stdout",
     "output_type": "stream",
     "text": [
      "['__class__', '__delattr__', '__dict__', '__dir__', '__doc__', '__eq__', '__format__', '__ge__', '__getattribute__', '__gt__', '__hash__', '__init__', '__init_subclass__', '__le__', '__lt__', '__module__', '__ne__', '__new__', '__reduce__', '__reduce_ex__', '__repr__', '__setattr__', '__sizeof__', '__str__', '__subclasshook__', '__weakref__', '_elapsed_seconds', '_elapsed_steps', '_episode_started_at', '_max_episode_seconds', '_max_episode_steps', '_past_limit', 'action_space', 'class_name', 'close', 'compute_reward', 'env', 'metadata', 'observation_space', 'render', 'reset', 'reward_range', 'seed', 'spec', 'step', 'unwrapped']\n",
      "['__class__', '__delattr__', '__dict__', '__dir__', '__doc__', '__eq__', '__format__', '__ge__', '__getattribute__', '__gt__', '__hash__', '__init__', '__init_subclass__', '__le__', '__lt__', '__module__', '__ne__', '__new__', '__reduce__', '__reduce_ex__', '__repr__', '__setattr__', '__sizeof__', '__str__', '__subclasshook__', '__weakref__', 'action_space', 'close', 'force_mag', 'gravity', 'kinematics_integrator', 'length', 'masscart', 'masspole', 'metadata', 'np_random', 'observation_space', 'polemass_length', 'render', 'reset', 'reward_range', 'seed', 'spec', 'state', 'step', 'steps_beyond_done', 'tau', 'theta_threshold_radians', 'total_mass', 'unwrapped', 'viewer', 'x_threshold']\n",
      "States =  Box(4,)\n",
      "Actions =  Discrete(2)\n"
     ]
    }
   ],
   "source": [
    "print(dir(env))\n",
    "print(dir(env.unwrapped))\n",
    "print('States = ',env.unwrapped.observation_space)\n",
    "print('Actions = ',env.unwrapped.action_space)"
   ]
  },
  {
   "cell_type": "code",
   "execution_count": 15,
   "metadata": {},
   "outputs": [],
   "source": [
    "num_states = env.observation_space.shape[0]\n",
    "num_actions = env.action_space.n"
   ]
  },
  {
   "cell_type": "markdown",
   "metadata": {},
   "source": [
    "### 4. Test the environment with Random Action"
   ]
  },
  {
   "cell_type": "code",
   "execution_count": 16,
   "metadata": {},
   "outputs": [
    {
     "name": "stdout",
     "output_type": "stream",
     "text": [
      "[ [-0.04283321  0.01461015  0.03693223 -0.0010063 ] ] -> 1  : [ [-0.04254101  0.20918351  0.03691211 -0.28181171] ] R= 1.0\n",
      "[ [-0.04254101  0.20918351  0.03691211 -0.28181171] ] -> 1  : [ [-0.03835734  0.40376004  0.03127587 -0.56262799] ] R= 1.0\n",
      "[ [-0.03835734  0.40376004  0.03127587 -0.56262799] ] -> 0  : [ [-0.03028214  0.20821349  0.02002331 -0.260258  ] ] R= 1.0\n",
      "[ [-0.03028214  0.20821349  0.02002331 -0.260258  ] ] -> 1  : [ [-0.02611787  0.40304396  0.01481815 -0.54655867] ] R= 1.0\n",
      "[ [-0.02611787  0.40304396  0.01481815 -0.54655867] ] -> 0  : [ [-0.01805699  0.20771698  0.00388698 -0.24924399] ] R= 1.0\n",
      "[ [-0.01805699  0.20771698  0.00388698 -0.24924399] ] -> 1  : [ [-0.01390265  0.40278321 -0.0010979  -0.54069835] ] R= 1.0\n",
      "[ [-0.01390265  0.40278321 -0.0010979  -0.54069835] ] -> 1  : [ [-0.00584698  0.59792058 -0.01191187 -0.83372701] ] R= 1.0\n",
      "[ [-0.00584698  0.59792058 -0.01191187 -0.83372701] ] -> 1  : [ [ 0.00611143  0.79320324 -0.02858641 -1.13013223] ] R= 1.0\n",
      "[ [ 0.00611143  0.79320324 -0.02858641 -1.13013223] ] -> 1  : [ [ 0.02197549  0.98868764 -0.05118905 -1.43164228] ] R= 1.0\n",
      "[ [ 0.02197549  0.98868764 -0.05118905 -1.43164228] ] -> 0  : [ [ 0.04174925  0.79423347 -0.0798219  -1.1553861 ] ] R= 1.0\n",
      "[ [ 0.04174925  0.79423347 -0.0798219  -1.1553861 ] ] -> 1  : [ [ 0.05763391  0.99030026 -0.10292962 -1.47199258] ] R= 1.0\n",
      "[ [ 0.05763391  0.99030026 -0.10292962 -1.47199258] ] -> 0  : [ [ 0.07743992  0.79657652 -0.13236947 -1.21315281] ] R= 1.0\n",
      "[ [ 0.07743992  0.79657652 -0.13236947 -1.21315281] ] -> 0  : [ [ 0.09337145  0.60338757 -0.15663253 -0.96470751] ] R= 1.0\n",
      "[ [ 0.09337145  0.60338757 -0.15663253 -0.96470751] ] -> 1  : [ [ 0.1054392   0.80022719 -0.17592668 -1.30221433] ] R= 1.0\n",
      "[ [ 0.1054392   0.80022719 -0.17592668 -1.30221433] ] -> 1  : [ [ 0.12144375  0.99708965 -0.20197096 -1.64440615] ] R= 1.0\n",
      "[ [ 0.12144375  0.99708965 -0.20197096 -1.64440615] ] -> 0  : [ [ 0.14138554  0.80482304 -0.23485909 -1.42084508] ] R= 1.0\n",
      "Episode 1 finished after 16 steps with a Total Reward = 16\n",
      "[ [ 0.0031416  -0.02864543  0.02726326  0.01631114] ] -> 1  : [ [ 0.00256869  0.16607514  0.02758948 -0.26764677] ] R= 1.0\n",
      "[ [ 0.00256869  0.16607514  0.02758948 -0.26764677] ] -> 0  : [ [ 0.0058902  -0.02942947  0.02223654  0.03360882] ] R= 1.0\n",
      "[ [ 0.0058902  -0.02942947  0.02223654  0.03360882] ] -> 1  : [ [ 0.00530161  0.16536666  0.02290872 -0.25197613] ] R= 1.0\n",
      "[ [ 0.00530161  0.16536666  0.02290872 -0.25197613] ] -> 0  : [ [ 0.00860894 -0.0300748   0.0178692   0.0478437 ] ] R= 1.0\n",
      "[ [ 0.00860894 -0.0300748   0.0178692   0.0478437 ] ] -> 0  : [ [ 0.00800744 -0.22544837  0.01882607  0.34611053] ] R= 1.0\n",
      "[ [ 0.00800744 -0.22544837  0.01882607  0.34611053] ] -> 0  : [ [ 0.00349848 -0.42083298  0.02574828  0.64467005] ] R= 1.0\n",
      "[ [ 0.00349848 -0.42083298  0.02574828  0.64467005] ] -> 0  : [ [-0.00491818 -0.61630412  0.03864168  0.94534873] ] R= 1.0\n",
      "[ [-0.00491818 -0.61630412  0.03864168  0.94534873] ] -> 0  : [ [-0.01724427 -0.81192465  0.05754866  1.24991831] ] R= 1.0\n",
      "[ [-0.01724427 -0.81192465  0.05754866  1.24991831] ] -> 1  : [ [-0.03348276 -0.61758559  0.08254702  0.97580226] ] R= 1.0\n",
      "[ [-0.03348276 -0.61758559  0.08254702  0.97580226] ] -> 1  : [ [-0.04583447 -0.42366198  0.10206307  0.71014861] ] R= 1.0\n",
      "[ [-0.04583447 -0.42366198  0.10206307  0.71014861] ] -> 0  : [ [-0.05430771 -0.62003823  0.11626604  1.03313458] ] R= 1.0\n",
      "[ [-0.05430771 -0.62003823  0.11626604  1.03313458] ] -> 0  : [ [-0.06670848 -0.81649838  0.13692873  1.35994051] ] R= 1.0\n",
      "[ [-0.06670848 -0.81649838  0.13692873  1.35994051] ] -> 0  : [ [-0.08303844 -1.01304537  0.16412754  1.69213283] ] R= 1.0\n",
      "[ [-0.08303844 -1.01304537  0.16412754  1.69213283] ] -> 1  : [ [-0.10329935 -0.82015557  0.1979702   1.45472356] ] R= 1.0\n",
      "[ [-0.10329935 -0.82015557  0.1979702   1.45472356] ] -> 1  : [ [-0.11970246 -0.6279372   0.22706467  1.22985146] ] R= 1.0\n",
      "Episode 2 finished after 15 steps with a Total Reward = 15\n",
      "[ [-0.03661675  0.00948912 -0.01539317  0.01332777] ] -> 0  : [ [-0.03642696 -0.18540873 -0.01512661  0.30111449] ] R= 1.0\n",
      "[ [-0.03642696 -0.18540873 -0.01512661  0.30111449] ] -> 1  : [ [-0.04013514  0.00992552 -0.00910432  0.00369959] ] R= 1.0\n",
      "[ [-0.04013514  0.00992552 -0.00910432  0.00369959] ] -> 0  : [ [-0.03993663 -0.18506469 -0.00903033  0.29349614] ] R= 1.0\n",
      "[ [-0.03993663 -0.18506469 -0.00903033  0.29349614] ] -> 0  : [ [-0.04363792 -0.38005674 -0.00316041  0.5833174 ] ] R= 1.0\n",
      "[ [-0.04363792 -0.38005674 -0.00316041  0.5833174 ] ] -> 1  : [ [-0.05123906 -0.18489065  0.00850594  0.28964058] ] R= 1.0\n",
      "[ [-0.05123906 -0.18489065  0.00850594  0.28964058] ] -> 0  : [ [-0.05493687 -0.38013286  0.01429875  0.584994  ] ] R= 1.0\n",
      "[ [-0.05493687 -0.38013286  0.01429875  0.584994  ] ] -> 1  : [ [-0.06253953 -0.18521408  0.02599863  0.29684942] ] R= 1.0\n",
      "[ [-0.06253953 -0.18521408  0.02599863  0.29684942] ] -> 1  : [ [-0.06624381  0.00952778  0.03193562  0.01247808] ] R= 1.0\n",
      "[ [-0.06624381  0.00952778  0.03193562  0.01247808] ] -> 1  : [ [-0.06605325  0.20417753  0.03218518 -0.26996018] ] R= 1.0\n",
      "[ [-0.06605325  0.20417753  0.03218518 -0.26996018] ] -> 1  : [ [-0.0619697   0.39882575  0.02678598 -0.5523205 ] ] R= 1.0\n",
      "[ [-0.0619697   0.39882575  0.02678598 -0.5523205 ] ] -> 1  : [ [-0.05399319  0.59356149  0.01573957 -0.83644519] ] R= 1.0\n",
      "[ [-0.05399319  0.59356149  0.01573957 -0.83644519] ] -> 1  : [ [-4.21219574e-02  7.88464958e-01 -9.89338056e-04 -1.12413694e+00] ] R= 1.0\n",
      "[ [-4.21219574e-02  7.88464958e-01 -9.89338056e-04 -1.12413694e+00] ] -> 0  : [ [-0.02635266  0.59335599 -0.02347208 -0.83176449] ] R= 1.0\n",
      "[ [-0.02635266  0.59335599 -0.02347208 -0.83176449] ] -> 1  : [ [-0.01448554  0.78879072 -0.04010737 -1.131736  ] ] R= 1.0\n",
      "[ [-0.01448554  0.78879072 -0.04010737 -1.131736  ] ] -> 1  : [ [ 1.29027601e-03  9.84414139e-01 -6.27420867e-02 -1.43672355e+00] ] R= 1.0\n",
      "[ [ 1.29027601e-03  9.84414139e-01 -6.27420867e-02 -1.43672355e+00] ] -> 0  : [ [ 0.02097856  0.79011926 -0.09147656 -1.16428876] ] R= 1.0\n",
      "[ [ 0.02097856  0.79011926 -0.09147656 -1.16428876] ] -> 0  : [ [ 0.03678094  0.59629945 -0.11476233 -0.90163121] ] R= 1.0\n",
      "[ [ 0.03678094  0.59629945 -0.11476233 -0.90163121] ] -> 1  : [ [ 0.04870693  0.79277352 -0.13279496 -1.22806983] ] R= 1.0\n",
      "[ [ 0.04870693  0.79277352 -0.13279496 -1.22806983] ] -> 0  : [ [ 0.0645624   0.59958672 -0.15735635 -0.97976802] ] R= 1.0\n",
      "[ [ 0.0645624   0.59958672 -0.15735635 -0.97976802] ] -> 0  : [ [ 0.07655414  0.40688393 -0.17695171 -0.74035717] ] R= 1.0\n",
      "[ [ 0.07655414  0.40688393 -0.17695171 -0.74035717] ] -> 1  : [ [ 0.08469182  0.60395004 -0.19175886 -1.08309325] ] R= 1.0\n",
      "[ [ 0.08469182  0.60395004 -0.19175886 -1.08309325] ] -> 1  : [ [ 0.09677082  0.8010133  -0.21342072 -1.42930227] ] R= 1.0\n",
      "Episode 3 finished after 22 steps with a Total Reward = 22\n"
     ]
    }
   ],
   "source": [
    "for i_episode in range(3):\n",
    "    state = env.reset()\n",
    "    tot_reward = 0\n",
    "    steps = 0\n",
    "    while True:\n",
    "        action = env.action_space.sample()\n",
    "        next_state, reward, done, info = env.step(action)\n",
    "        print('[',state,']','->', action,' : [',next_state,']', 'R=',reward)\n",
    "        # env.render()\n",
    "        tot_reward += reward\n",
    "        steps += 1\n",
    "        if done:\n",
    "            print('Episode {:d} finished after {:d} steps with a Total Reward = {:.0f}'.\n",
    "                  format(i_episode+1,steps, tot_reward))\n",
    "            break\n",
    "        else:\n",
    "            state = next_state\n",
    "# Pole angle +/-12 degrees, Cart Pos +/- 2.4 or 200 steps\n",
    "# Cart Pos, Velocity, Pole Angle, Velocity\n",
    "# 12 degrees = .2094 radians"
   ]
  },
  {
   "cell_type": "markdown",
   "metadata": {},
   "source": [
    "## Q Learning\n",
    "### Let us implement the Basic Q-Learning Algorithm\n",
    "<img src='../Qlearning_Alg.png'>"
   ]
  },
  {
   "cell_type": "markdown",
   "metadata": {},
   "source": [
    "### Step 1 : Define policies"
   ]
  },
  {
   "cell_type": "markdown",
   "metadata": {},
   "source": [
    "## $\\epsilon$-Greedy\n",
    "\n",
    "<img src=\"../e_greedy.png\" >"
   ]
  },
  {
   "cell_type": "code",
   "execution_count": 17,
   "metadata": {},
   "outputs": [],
   "source": [
    "def choose_e_greedy_action(env,Q,state,epsilon,nA):\n",
    "    action = np.random.choice(np.arange(nA), p=get_probs(Q[state], epsilon, nA)) if state in Q else env.action_space.sample()\n",
    "    return action\n",
    "\n",
    "def get_probs(Q_s, epsilon, nA):\n",
    "    \"\"\" obtains the action probabilities corresponding to epsilon-greedy policy \"\"\"\n",
    "    policy_s = np.ones(nA) * epsilon / nA\n",
    "    best_a = np.argmax(Q_s)\n",
    "    policy_s[best_a] = 1 - epsilon + (epsilon / nA)\n",
    "    return policy_s"
   ]
  },
  {
   "cell_type": "markdown",
   "metadata": {},
   "source": [
    "### We need to convert the sontinuous state space to discrete"
   ]
  },
  {
   "cell_type": "code",
   "execution_count": 18,
   "metadata": {},
   "outputs": [],
   "source": [
    "#discretize the spaces\n",
    "poleThetaSpace = np.linspace(-0.20943951, 0.20943951, 10)\n",
    "poleThetaVelSpace = np.linspace(-4, 4, 10)\n",
    "cartPosSpace = np.linspace(-2.4, 2.4, 10)\n",
    "cartVelSpace = np.linspace(-4, 4, 10)\n",
    "\n",
    "def getState(observation):\n",
    "    cartX, cartXdot, cartTheta, cartThetadot = observation\n",
    "    cartX = int(np.digitize(cartX, cartPosSpace))\n",
    "    cartXdot = int(np.digitize(cartXdot, cartVelSpace))\n",
    "    cartTheta = int(np.digitize(cartTheta, poleThetaSpace))\n",
    "    cartThetadot = int(np.digitize(cartThetadot, poleThetaVelSpace))\n",
    "\n",
    "    return (cartX, cartXdot, cartTheta, cartThetadot)"
   ]
  },
  {
   "cell_type": "code",
   "execution_count": 19,
   "metadata": {},
   "outputs": [],
   "source": [
    "# uses global variavle env\n",
    "def q_learning(n_episodes=2000, max_t=1000, \n",
    "               epsilon_start=1.0, epsilon_min=0.01, epsilon_decay=0.9995, # 0.995 gets to min by 1000 episodes\n",
    "               alpha=0.01, gamma=1.0):\n",
    "    \"\"\"Deep Q-Learning.\n",
    "    \n",
    "    Params\n",
    "    ======\n",
    "        n_episodes (int): maximum number of training episodes\n",
    "        max_t (int): maximum number of timesteps per episode\n",
    "        epsilon_start (float): starting value of epsilon, for epsilon-greedy action selection\n",
    "        epsilon_end (float): minimum value of epsilon\n",
    "        epsilon_decay (float): multiplicative factor (per episode) for decreasing epsilon\n",
    "        alpha = step-size parameter\n",
    "        gamma = discount rate\n",
    "    \"\"\"\n",
    "    # initialize empty dictionary of arrays\n",
    "    Q = defaultdict(lambda: np.zeros(num_actions))\n",
    "    scores = []                        # list containing scores from each episode\n",
    "    scores_window = deque(maxlen=100)  # last 100 scores\n",
    "    epsilon = epsilon_start            # initialize epsilon\n",
    "    has_seen_13 = False\n",
    "    max_score = 0\n",
    "    # loop over episodes\n",
    "    for i_episode in range(1, n_episodes+1):\n",
    "        score = 0\n",
    "        max_steps = 0\n",
    "        # monitor progress\n",
    "        if i_episode % 100 == 0:\n",
    "            print(\"\\rEpisode {}/{}\".format(i_episode, n_episodes), end=\"\")\n",
    "            sys.stdout.flush()\n",
    "        \n",
    "        s_t = env.reset()\n",
    "        a_t = choose_e_greedy_action(env,Q,getState(s_t),epsilon,num_actions)\n",
    "        t = 0\n",
    "        while True:\n",
    "            s_t_d = getState(s_t)\n",
    "            # state, reward, done, info = env.step(action)\n",
    "            s_t_1, reward, done, prob = env.step(a_t)\n",
    "            # print(state,reward,done, prob)\n",
    "            s_t_1_d = getState(s_t_1) # Digitize state\n",
    "            a_t_1 = choose_e_greedy_action(env,Q,s_t_1_d,epsilon,num_actions)\n",
    "            best_a = np.argmax(Q[s_t_1_d])\n",
    "            Q[s_t_d][a_t] = Q[s_t_d][a_t] + alpha * (reward + gamma*(Q[s_t_1_d][best_a]) - Q[s_t_d][a_t])\n",
    "            a_t = a_t_1\n",
    "            s_t = s_t_1\n",
    "            score += reward\n",
    "            max_steps += 1\n",
    "            if done:\n",
    "                break\n",
    "        scores_window.append(score)       # save most recent score\n",
    "        scores.append(score)              # save most recent score\n",
    "        epsilon = max(epsilon*epsilon_decay, epsilon_min) # decrease epsilon\n",
    "        print('\\rEpisode : {}\\tAverage Score : {:5.2f}\\tMax_steps : {}\\teps : {:5.3f}\\tMax.Score : {:5.3f}'.\\\n",
    "              format(i_episode, np.mean(scores_window),max_steps,epsilon,max_score), end=\"\")\n",
    "        if i_episode % 100 == 0:\n",
    "            print('\\rEpisode : {}\\tAverage Score : {:5.2f}\\tMax_steps : {}\\teps : {:5.3f}\\tMax.Score : {:5.3f}'.\\\n",
    "                  format(i_episode, np.mean(scores_window),max_steps,epsilon,max_score))\n",
    "        if (np.mean(scores_window)>=195.0) and (not has_seen_13):\n",
    "            print('\\nEnvironment solved in {:d} episodes!\\tAverage Score: {:5.2f}'.\\\n",
    "                  format(i_episode-100, np.mean(scores_window)))\n",
    "            # torch.save(agent.qnetwork_local.state_dict(), 'checkpoint.pth')\n",
    "            has_seen_13 = True\n",
    "        if score > max_score:\n",
    "            max_score = score\n",
    "    return scores, Q"
   ]
  },
  {
   "cell_type": "code",
   "execution_count": 20,
   "metadata": {
    "scrolled": false
   },
   "outputs": [
    {
     "name": "stdout",
     "output_type": "stream",
     "text": [
      "Episode : 100\tAverage Score : 23.28\tMax_steps : 22\teps : 0.951\tMax.Score : 76.000\n",
      "Episode : 200\tAverage Score : 26.34\tMax_steps : 23\teps : 0.905\tMax.Score : 98.000\n",
      "Episode : 300\tAverage Score : 25.10\tMax_steps : 16\teps : 0.861\tMax.Score : 98.000\n",
      "Episode : 400\tAverage Score : 24.75\tMax_steps : 16\teps : 0.819\tMax.Score : 98.000\n",
      "Episode : 500\tAverage Score : 24.74\tMax_steps : 29\teps : 0.779\tMax.Score : 98.000\n",
      "Episode : 600\tAverage Score : 22.63\tMax_steps : 14\teps : 0.741\tMax.Score : 98.000\n",
      "Episode : 700\tAverage Score : 26.43\tMax_steps : 25\teps : 0.705\tMax.Score : 98.000\n",
      "Episode : 800\tAverage Score : 23.04\tMax_steps : 27\teps : 0.670\tMax.Score : 98.000\n",
      "Episode : 900\tAverage Score : 25.26\tMax_steps : 21\teps : 0.638\tMax.Score : 121.000\n",
      "Episode : 1000\tAverage Score : 26.06\tMax_steps : 19\teps : 0.606\tMax.Score : 121.000\n",
      "Episode : 1100\tAverage Score : 26.75\tMax_steps : 21\teps : 0.577\tMax.Score : 121.000\n",
      "Episode : 1200\tAverage Score : 25.79\tMax_steps : 28\teps : 0.549\tMax.Score : 121.000\n",
      "Episode : 1300\tAverage Score : 25.73\tMax_steps : 23\teps : 0.522\tMax.Score : 121.000\n",
      "Episode : 1400\tAverage Score : 24.51\tMax_steps : 24\teps : 0.496\tMax.Score : 121.000\n",
      "Episode : 1500\tAverage Score : 25.04\tMax_steps : 26\teps : 0.472\tMax.Score : 121.000\n",
      "Episode : 1600\tAverage Score : 24.18\tMax_steps : 21\teps : 0.449\tMax.Score : 121.000\n",
      "Episode : 1700\tAverage Score : 24.97\tMax_steps : 32\teps : 0.427\tMax.Score : 121.000\n",
      "Episode : 1800\tAverage Score : 25.21\tMax_steps : 33\teps : 0.406\tMax.Score : 121.000\n",
      "Episode : 1900\tAverage Score : 24.60\tMax_steps : 24\teps : 0.387\tMax.Score : 121.000\n",
      "Episode : 2000\tAverage Score : 24.58\tMax_steps : 19\teps : 0.368\tMax.Score : 121.000\n",
      "Episode : 2100\tAverage Score : 23.43\tMax_steps : 13\teps : 0.350\tMax.Score : 121.000\n",
      "Episode : 2200\tAverage Score : 24.62\tMax_steps : 21\teps : 0.333\tMax.Score : 121.000\n",
      "Episode : 2300\tAverage Score : 24.64\tMax_steps : 29\teps : 0.317\tMax.Score : 121.000\n",
      "Episode : 2400\tAverage Score : 23.73\tMax_steps : 14\teps : 0.301\tMax.Score : 121.000\n",
      "Episode : 2500\tAverage Score : 24.40\tMax_steps : 30\teps : 0.286\tMax.Score : 121.000\n",
      "Episode : 2600\tAverage Score : 28.87\tMax_steps : 40\teps : 0.272\tMax.Score : 121.000\n",
      "Episode : 2700\tAverage Score : 30.22\tMax_steps : 37\teps : 0.259\tMax.Score : 121.000\n",
      "Episode : 2800\tAverage Score : 30.47\tMax_steps : 37\teps : 0.247\tMax.Score : 121.000\n",
      "Episode : 2900\tAverage Score : 29.23\tMax_steps : 20\teps : 0.234\tMax.Score : 121.000\n",
      "Episode : 3000\tAverage Score : 30.23\tMax_steps : 21\teps : 0.223\tMax.Score : 121.000\n",
      "Episode : 3100\tAverage Score : 30.29\tMax_steps : 26\teps : 0.212\tMax.Score : 121.000\n",
      "Episode : 3200\tAverage Score : 30.97\tMax_steps : 23\teps : 0.202\tMax.Score : 121.000\n",
      "Episode : 3300\tAverage Score : 29.34\tMax_steps : 30\teps : 0.192\tMax.Score : 121.000\n",
      "Episode : 3400\tAverage Score : 30.12\tMax_steps : 32\teps : 0.183\tMax.Score : 121.000\n",
      "Episode : 3500\tAverage Score : 28.89\tMax_steps : 19\teps : 0.174\tMax.Score : 121.000\n",
      "Episode : 3600\tAverage Score : 30.39\tMax_steps : 37\teps : 0.165\tMax.Score : 121.000\n",
      "Episode : 3700\tAverage Score : 30.78\tMax_steps : 37\teps : 0.157\tMax.Score : 121.000\n",
      "Episode : 3800\tAverage Score : 30.17\tMax_steps : 35\teps : 0.149\tMax.Score : 121.000\n",
      "Episode : 3900\tAverage Score : 30.00\tMax_steps : 28\teps : 0.142\tMax.Score : 121.000\n",
      "Episode : 4000\tAverage Score : 30.71\tMax_steps : 33\teps : 0.135\tMax.Score : 121.000\n",
      "Episode : 4100\tAverage Score : 31.06\tMax_steps : 37\teps : 0.129\tMax.Score : 121.000\n",
      "Episode : 4200\tAverage Score : 30.25\tMax_steps : 29\teps : 0.122\tMax.Score : 121.000\n",
      "Episode : 4300\tAverage Score : 31.13\tMax_steps : 28\teps : 0.116\tMax.Score : 121.000\n",
      "Episode : 4400\tAverage Score : 31.25\tMax_steps : 33\teps : 0.111\tMax.Score : 121.000\n",
      "Episode : 4500\tAverage Score : 30.97\tMax_steps : 34\teps : 0.105\tMax.Score : 121.000\n",
      "Episode : 4600\tAverage Score : 31.38\tMax_steps : 31\teps : 0.100\tMax.Score : 121.000\n",
      "Episode : 4700\tAverage Score : 31.24\tMax_steps : 39\teps : 0.095\tMax.Score : 121.000\n",
      "Episode : 4800\tAverage Score : 31.53\tMax_steps : 31\teps : 0.091\tMax.Score : 121.000\n",
      "Episode : 4900\tAverage Score : 30.34\tMax_steps : 35\teps : 0.086\tMax.Score : 121.000\n",
      "Episode : 5000\tAverage Score : 31.14\tMax_steps : 25\teps : 0.082\tMax.Score : 121.000\n",
      "Elapsed : 0:00:22.750476\n",
      "2019-02-08 11:09:28.951743\n"
     ]
    },
    {
     "data": {
      "image/png": "[encoded data removed]",
      "text/plain": [
       "<Figure size 432x288 with 1 Axes>"
      ]
     },
     "metadata": {
      "needs_background": "light"
     },
     "output_type": "display_data"
    },
    {
     "name": "stdout",
     "output_type": "stream",
     "text": [
      "Max Score 121.000000 at 856\n",
      "Percentile [25,50,75] : [21. 27. 33.]\n",
      "Variance : 83.717\n"
     ]
    }
   ],
   "source": [
    "# obtain the estimated optimal policy and corresponding action-value function\n",
    "start_time = time.time()\n",
    "scores, QVal = q_learning(n_episodes=5000)\n",
    "# env.close() # Close the environment\n",
    "print('Elapsed : {}'.format(timedelta(seconds=time.time() - start_time)))\n",
    "print(datetime.now())\n",
    "# plot the scores\n",
    "fig = plt.figure()\n",
    "ax = fig.add_subplot(111)\n",
    "plt.plot(np.arange(len(scores)), scores)\n",
    "plt.ylabel('Score')\n",
    "plt.xlabel('Episode #')\n",
    "plt.show()\n",
    "print('Max Score {:2f} at {}'.format(np.max(scores), np.argmax(scores)))\n",
    "print('Percentile [25,50,75] : {}'.format(np.percentile(scores,[25,50,75])))\n",
    "print('Variance : {:.3f}'.format(np.var(scores)))"
   ]
  },
  {
   "cell_type": "code",
   "execution_count": null,
   "metadata": {
    "scrolled": false
   },
   "outputs": [],
   "source": [
    "for k,v in QVal.items():\n",
    "    print('k={},v={}'.format(k,v))"
   ]
  },
  {
   "cell_type": "code",
   "execution_count": 22,
   "metadata": {},
   "outputs": [],
   "source": [
    "# Construct the estimated optimal policy\n",
    "QPolicy={}\n",
    "for k,v in QVal.items():\n",
    "    QPolicy[k] = [0] * num_actions\n",
    "    QPolicy[k][np.argmax(QVal[k])] = 1"
   ]
  },
  {
   "cell_type": "markdown",
   "metadata": {},
   "source": [
    "### Points to Ponder\n",
    "1. Like our earlier lab we can decay $\\epsilon$ in different ways\n",
    "2. Even after 30,000 episodes it doesn't solve the environment.\n",
    "    * There is opportunity for tweaking"
   ]
  },
  {
   "cell_type": "markdown",
   "metadata": {},
   "source": [
    "## Test our policy"
   ]
  },
  {
   "cell_type": "code",
   "execution_count": 23,
   "metadata": {},
   "outputs": [
    {
     "name": "stdout",
     "output_type": "stream",
     "text": [
      "Episode 1 finished after 29 steps with a Total Reward = 29\n",
      "Episode 2 finished after 25 steps with a Total Reward = 25\n"
     ]
    }
   ],
   "source": [
    "for i_episode in range(2): \n",
    "    state = env.reset()\n",
    "    tot_reward = 0\n",
    "    steps = 0\n",
    "    while True:\n",
    "        if getState(state) in QPolicy:\n",
    "            probs = QPolicy[getState(state)]\n",
    "        else:\n",
    "            print(\".\")\n",
    "            probs = [1.0/num_actions] * num_actions\n",
    "        action = np.random.choice(np.arange(num_actions), p=probs)\n",
    "        next_state, reward, done, info = env.step(action)\n",
    "        # print('[',state,']',' -> ', action,' = [',next_state,']', reward)\n",
    "        tot_reward += reward\n",
    "        steps += 1\n",
    "        if done:\n",
    "            print('Episode {:d} finished after {:d} steps with a Total Reward = {:.0f}'.\n",
    "                  format(i_episode+1,steps, tot_reward))\n",
    "            break\n",
    "        else:\n",
    "            state = next_state"
   ]
  },
  {
   "cell_type": "code",
   "execution_count": 24,
   "metadata": {},
   "outputs": [],
   "source": [
    "env.close()"
   ]
  },
  {
   "cell_type": "markdown",
   "metadata": {},
   "source": [
    "## _That's all Folks !_"
   ]
  },
  {
   "cell_type": "code",
   "execution_count": null,
   "metadata": {},
   "outputs": [],
   "source": []
  }
 ],
 "metadata": {
  "kernelspec": {
   "display_name": "Python 3",
   "language": "python",
   "name": "python3"
  },
  "language_info": {
   "codemirror_mode": {
    "name": "ipython",
    "version": 3
   },
   "file_extension": ".py",
   "mimetype": "text/x-python",
   "name": "python",
   "nbconvert_exporter": "python",
   "pygments_lexer": "ipython3",
   "version": "3.7.1"
  }
 },
 "nbformat": 4,
 "nbformat_minor": 2
}
